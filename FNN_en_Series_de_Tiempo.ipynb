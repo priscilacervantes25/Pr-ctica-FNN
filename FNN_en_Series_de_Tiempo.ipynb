{
  "cells": [
    {
      "cell_type": "markdown",
      "metadata": {
        "id": "ckLchvYNlYga"
      },
      "source": [
        "<img src=\"https://iteso.mx/documents/27014/202031/Logo-ITESO-MinimoH.png\"\n",
        "     align=\"right\"\n",
        "     width=\"300\"/>\n",
        "\n",
        "# Predicción TIIE 28 días utilizando Feedforward Neural Networks FNN\n",
        "\n",
        "## *Modelos no lineales para pronósitico*  - Pedro Martinez\n",
        "\n",
        "---"
      ]
    },
    {
      "cell_type": "markdown",
      "metadata": {
        "id": "d_O0XgcylfTL"
      },
      "source": [
        "Una red neuronal de propagación hacia adelante FNN es una red neuronal en la que la información fluye en una sola dirección: las entradas se multiplican por pesos para obtener las salidas (entradas a salida). Puede utilizarse en un análisis de series de tiempo si los datos se preparan correctamente.\n",
        "\n",
        "En este notebook aprenderemos a:\n",
        "- Entender el perceptrón como base de las redes neuronales.\n",
        "- Construir un dataset de ventanas (lags) a partir de una serie temporal.\n",
        "- Entrenar una FNN para predecir valores futuros.\n",
        "- Comparar los resultados con los valores reales de la TIIE (Banxico API).\n",
        "\n",
        "La idea es que una red neuronal puede aprender **patrones no lineales** que los modelos tradicionales (ARIMA, SARIMA) no siempre capturan."
      ]
    },
    {
      "cell_type": "code",
      "execution_count": 28,
      "metadata": {
        "id": "mHtlNUsmnfGD"
      },
      "outputs": [],
      "source": [
        "import requests\n",
        "import pandas as pd\n",
        "import numpy as np\n",
        "import plotly.graph_objs as go\n",
        "from sklearn.preprocessing import MinMaxScaler\n",
        "from tensorflow.keras.models import Sequential\n",
        "from tensorflow.keras.layers import Dense, LSTM\n",
        "from sklearn.metrics import mean_squared_error, mean_absolute_error"
      ]
    },
    {
      "cell_type": "code",
      "execution_count": 21,
      "metadata": {
        "colab": {
          "base_uri": "https://localhost:8080/",
          "height": 272
        },
        "id": "5o0Vicddnjy8",
        "outputId": "799c991f-9a7c-4401-dad2-14a762761c63"
      },
      "outputs": [
        {
          "data": {
            "text/html": [
              "<div>\n",
              "<style scoped>\n",
              "    .dataframe tbody tr th:only-of-type {\n",
              "        vertical-align: middle;\n",
              "    }\n",
              "\n",
              "    .dataframe tbody tr th {\n",
              "        vertical-align: top;\n",
              "    }\n",
              "\n",
              "    .dataframe thead th {\n",
              "        text-align: right;\n",
              "    }\n",
              "</style>\n",
              "<table border=\"1\" class=\"dataframe\">\n",
              "  <thead>\n",
              "    <tr style=\"text-align: right;\">\n",
              "      <th></th>\n",
              "      <th>dato</th>\n",
              "    </tr>\n",
              "    <tr>\n",
              "      <th>fecha</th>\n",
              "      <th></th>\n",
              "    </tr>\n",
              "  </thead>\n",
              "  <tbody>\n",
              "    <tr>\n",
              "      <th>2025-09-29</th>\n",
              "      <td>18.3507</td>\n",
              "    </tr>\n",
              "    <tr>\n",
              "      <th>2025-09-30</th>\n",
              "      <td>18.3342</td>\n",
              "    </tr>\n",
              "    <tr>\n",
              "      <th>2025-10-01</th>\n",
              "      <td>18.3477</td>\n",
              "    </tr>\n",
              "    <tr>\n",
              "      <th>2025-10-02</th>\n",
              "      <td>18.4843</td>\n",
              "    </tr>\n",
              "    <tr>\n",
              "      <th>2025-10-03</th>\n",
              "      <td>18.3902</td>\n",
              "    </tr>\n",
              "  </tbody>\n",
              "</table>\n",
              "</div>"
            ],
            "text/plain": [
              "               dato\n",
              "fecha              \n",
              "2025-09-29  18.3507\n",
              "2025-09-30  18.3342\n",
              "2025-10-01  18.3477\n",
              "2025-10-02  18.4843\n",
              "2025-10-03  18.3902"
            ]
          },
          "execution_count": 21,
          "metadata": {},
          "output_type": "execute_result"
        }
      ],
      "source": [
        "# Serie: TIIE 28 días\n",
        "serie_id = \"SF43718\"\n",
        "token = \"80996d887f4a37288c1c4f1a19b52f95306031c52d724f0c623eb1529a429f99\"\n",
        "\n",
        "url = f\"https://www.banxico.org.mx/SieAPIRest/service/v1/series/{serie_id}/datos\"\n",
        "headers = {\"Bmx-Token\": token}\n",
        "response = requests.get(url, headers=headers).json()\n",
        "\n",
        "# Convertir a DataFrame\n",
        "data = response[\"bmx\"][\"series\"][0][\"datos\"]\n",
        "df = pd.DataFrame(data)\n",
        "df[\"fecha\"] = pd.to_datetime(df[\"fecha\"], format=\"%d/%m/%Y\")\n",
        "df[\"dato\"] = pd.to_numeric(df[\"dato\"], errors=\"coerce\")\n",
        "df = df.dropna().set_index(\"fecha\")\n",
        "\n",
        "df.tail()"
      ]
    },
    {
      "cell_type": "code",
      "execution_count": 29,
      "metadata": {
        "id": "oLyD2OxBoHBU"
      },
      "outputs": [
        {
          "name": "stdout",
          "output_type": "stream",
          "text": [
            "Iniciando evaluación de ventanas para el modelo LSTM...\n",
            "\n",
            "--- Probando ventana de tamaño: 5 ---\n"
          ]
        },
        {
          "name": "stderr",
          "output_type": "stream",
          "text": [
            "c:\\Users\\canal\\miniconda3\\Lib\\site-packages\\keras\\src\\layers\\rnn\\rnn.py:199: UserWarning:\n",
            "\n",
            "Do not pass an `input_shape`/`input_dim` argument to a layer. When using Sequential models, prefer using an `Input(shape)` object as the first layer in the model instead.\n",
            "\n"
          ]
        },
        {
          "name": "stdout",
          "output_type": "stream",
          "text": [
            "\u001b[1m1/1\u001b[0m \u001b[32m━━━━━━━━━━━━━━━━━━━━\u001b[0m\u001b[37m\u001b[0m \u001b[1m0s\u001b[0m 143ms/step\n",
            "Resultados para ventana 5: RMSE=0.0867, MAE=0.0715\n",
            "\n",
            "--- Probando ventana de tamaño: 10 ---\n"
          ]
        },
        {
          "name": "stderr",
          "output_type": "stream",
          "text": [
            "c:\\Users\\canal\\miniconda3\\Lib\\site-packages\\keras\\src\\layers\\rnn\\rnn.py:199: UserWarning:\n",
            "\n",
            "Do not pass an `input_shape`/`input_dim` argument to a layer. When using Sequential models, prefer using an `Input(shape)` object as the first layer in the model instead.\n",
            "\n"
          ]
        },
        {
          "name": "stdout",
          "output_type": "stream",
          "text": [
            "\u001b[1m1/1\u001b[0m \u001b[32m━━━━━━━━━━━━━━━━━━━━\u001b[0m\u001b[37m\u001b[0m \u001b[1m0s\u001b[0m 129ms/step\n",
            "Resultados para ventana 10: RMSE=0.1210, MAE=0.1020\n",
            "\n",
            "--- Probando ventana de tamaño: 15 ---\n"
          ]
        },
        {
          "name": "stderr",
          "output_type": "stream",
          "text": [
            "c:\\Users\\canal\\miniconda3\\Lib\\site-packages\\keras\\src\\layers\\rnn\\rnn.py:199: UserWarning:\n",
            "\n",
            "Do not pass an `input_shape`/`input_dim` argument to a layer. When using Sequential models, prefer using an `Input(shape)` object as the first layer in the model instead.\n",
            "\n"
          ]
        },
        {
          "name": "stdout",
          "output_type": "stream",
          "text": [
            "WARNING:tensorflow:5 out of the last 271 calls to <function TensorFlowTrainer.make_predict_function.<locals>.one_step_on_data_distributed at 0x000002886C5FD260> triggered tf.function retracing. Tracing is expensive and the excessive number of tracings could be due to (1) creating @tf.function repeatedly in a loop, (2) passing tensors with different shapes, (3) passing Python objects instead of tensors. For (1), please define your @tf.function outside of the loop. For (2), @tf.function has reduce_retracing=True option that can avoid unnecessary retracing. For (3), please refer to https://www.tensorflow.org/guide/function#controlling_retracing and https://www.tensorflow.org/api_docs/python/tf/function for  more details.\n",
            "\u001b[1m1/1\u001b[0m \u001b[32m━━━━━━━━━━━━━━━━━━━━\u001b[0m\u001b[37m\u001b[0m \u001b[1m0s\u001b[0m 200ms/step\n",
            "Resultados para ventana 15: RMSE=0.0894, MAE=0.0740\n",
            "\n",
            "--- Probando ventana de tamaño: 30 ---\n"
          ]
        },
        {
          "name": "stderr",
          "output_type": "stream",
          "text": [
            "c:\\Users\\canal\\miniconda3\\Lib\\site-packages\\keras\\src\\layers\\rnn\\rnn.py:199: UserWarning:\n",
            "\n",
            "Do not pass an `input_shape`/`input_dim` argument to a layer. When using Sequential models, prefer using an `Input(shape)` object as the first layer in the model instead.\n",
            "\n"
          ]
        },
        {
          "name": "stdout",
          "output_type": "stream",
          "text": [
            "WARNING:tensorflow:6 out of the last 272 calls to <function TensorFlowTrainer.make_predict_function.<locals>.one_step_on_data_distributed at 0x0000028868B4F6A0> triggered tf.function retracing. Tracing is expensive and the excessive number of tracings could be due to (1) creating @tf.function repeatedly in a loop, (2) passing tensors with different shapes, (3) passing Python objects instead of tensors. For (1), please define your @tf.function outside of the loop. For (2), @tf.function has reduce_retracing=True option that can avoid unnecessary retracing. For (3), please refer to https://www.tensorflow.org/guide/function#controlling_retracing and https://www.tensorflow.org/api_docs/python/tf/function for  more details.\n",
            "\u001b[1m1/1\u001b[0m \u001b[32m━━━━━━━━━━━━━━━━━━━━\u001b[0m\u001b[37m\u001b[0m \u001b[1m0s\u001b[0m 169ms/step\n",
            "Resultados para ventana 30: RMSE=0.0770, MAE=0.0635\n",
            "\n",
            "--- RESUMEN FINAL - MODELO LSTM ---\n",
            "Resultados por tamaño de ventana:\n",
            "Ventana 5: RMSE=0.0867, MAE=0.0715\n",
            "Ventana 10: RMSE=0.1210, MAE=0.1020\n",
            "Ventana 15: RMSE=0.0894, MAE=0.0740\n",
            "Ventana 30: RMSE=0.0770, MAE=0.0635\n"
          ]
        }
      ],
      "source": [
        "fecha_inicio = df.index.max() - pd.DateOffset(years=2)\n",
        "df_2y = df[df.index >= fecha_inicio]\n",
        "\n",
        "# Normalizar los datos\n",
        "scaler = MinMaxScaler(feature_range=(0, 1))\n",
        "df_scaled = scaler.fit_transform(df_2y[[\"dato\"]])\n",
        "\n",
        "# Función para crear ventanas de tiempo\n",
        "def create_dataset(series, window=5):\n",
        "    X, y = [], []\n",
        "    for i in range(len(series) - window):\n",
        "        X.append(series[i:(i+window), 0])\n",
        "        y.append(series[i+window, 0])\n",
        "    return np.array(X), np.array(y)\n",
        "\n",
        "\n",
        "# LSTM\n",
        "\n",
        "def evaluar_ventanas_lstm(df_scaled, ventanas, n_test=15):\n",
        "    \"\"\"\n",
        "    Prueba diferentes tamaños de ventana con un modelo LSTM.\n",
        "    \"\"\"\n",
        "    resultados = {}\n",
        "    print(\"Iniciando evaluación de ventanas para el modelo LSTM...\")\n",
        "    \n",
        "    for w in ventanas:\n",
        "        print(f\"\\n--- Probando ventana de tamaño: {w} ---\")\n",
        "        \n",
        "        # a) Crear dataset para la ventana actual\n",
        "        X, y = create_dataset(df_scaled, w)\n",
        "        X_train, X_test = X[:-n_test], X[-n_test:]\n",
        "        y_train, y_test = y[:-n_test], y[-n_test:]\n",
        "        \n",
        "        # b) Reshape para que sea compatible con LSTM (¡clave!)\n",
        "        X_train = X_train.reshape((X_train.shape[0], X_train.shape[1], 1))\n",
        "        X_test = X_test.reshape((X_test.shape[0], X_test.shape[1], 1))\n",
        "        \n",
        "        # c) Crear y compilar el modelo LSTM\n",
        "        model = Sequential()\n",
        "        # La input_shape depende de la ventana 'w'\n",
        "        model.add(LSTM(50, activation=\"relu\", input_shape=(w, 1))) \n",
        "        model.add(Dense(25, activation=\"relu\"))\n",
        "        model.add(Dense(1, activation=\"linear\"))\n",
        "        model.compile(optimizer=\"adam\", loss=\"mse\")\n",
        "        \n",
        "        # d) Entrenar el modelo\n",
        "        model.fit(X_train, y_train, epochs=50, batch_size=16, verbose=0) # verbose=0 para no saturar la salida\n",
        "        \n",
        "        # e) Predecir y calcular métricas\n",
        "        y_pred_scaled = model.predict(X_test)\n",
        "        \n",
        "        # Invertir la escala para calcular el error en la magnitud real\n",
        "        y_pred = scaler.inverse_transform(y_pred_scaled)\n",
        "        y_test_real = scaler.inverse_transform(y_test.reshape(-1, 1))\n",
        "\n",
        "        rmse = np.sqrt(mean_squared_error(y_test_real, y_pred))\n",
        "        mae = mean_absolute_error(y_test_real, y_pred)\n",
        "        \n",
        "        resultados[w] = {\"RMSE\": rmse, \"MAE\": mae}\n",
        "        print(f\"Resultados para ventana {w}: RMSE={rmse:.4f}, MAE={mae:.4f}\")\n",
        "    \n",
        "    return resultados\n",
        "\n",
        "# Definir las ventanas a evaluar\n",
        "ventanas = [5, 10, 15, 30]\n",
        "resultados_lstm = evaluar_ventanas_lstm(df_scaled, ventanas)\n",
        "\n",
        "print(\"\\n--- RESUMEN FINAL - MODELO LSTM ---\")\n",
        "print(\"Resultados por tamaño de ventana:\")\n",
        "for w, met in resultados_lstm.items():\n",
        "    print(f\"Ventana {w}: RMSE={met['RMSE']:.4f}, MAE={met['MAE']:.4f}\")\n"
      ]
    },
    {
      "cell_type": "code",
      "execution_count": null,
      "metadata": {
        "colab": {
          "base_uri": "https://localhost:8080/"
        },
        "id": "qRQ_O17toLuI",
        "outputId": "9f4717c2-c8b2-4920-ed75-49b02e8f589c"
      },
      "outputs": [
        {
          "name": "stdout",
          "output_type": "stream",
          "text": [
            "Creando el dataset final con window_size = 30...\n",
            "Datos listos para el entrenamiento final.\n",
            "Entrenando el modelo final...\n",
            "Epoch 1/50\n"
          ]
        },
        {
          "name": "stderr",
          "output_type": "stream",
          "text": [
            "c:\\Users\\canal\\miniconda3\\Lib\\site-packages\\keras\\src\\layers\\rnn\\rnn.py:199: UserWarning:\n",
            "\n",
            "Do not pass an `input_shape`/`input_dim` argument to a layer. When using Sequential models, prefer using an `Input(shape)` object as the first layer in the model instead.\n",
            "\n"
          ]
        },
        {
          "name": "stdout",
          "output_type": "stream",
          "text": [
            "\u001b[1m29/29\u001b[0m \u001b[32m━━━━━━━━━━━━━━━━━━━━\u001b[0m\u001b[37m\u001b[0m \u001b[1m2s\u001b[0m 16ms/step - loss: 0.1171 - val_loss: 2.6912e-04\n",
            "Epoch 2/50\n",
            "\u001b[1m29/29\u001b[0m \u001b[32m━━━━━━━━━━━━━━━━━━━━\u001b[0m\u001b[37m\u001b[0m \u001b[1m0s\u001b[0m 8ms/step - loss: 0.0075 - val_loss: 7.6169e-04\n",
            "Epoch 3/50\n",
            "\u001b[1m29/29\u001b[0m \u001b[32m━━━━━━━━━━━━━━━━━━━━\u001b[0m\u001b[37m\u001b[0m \u001b[1m0s\u001b[0m 7ms/step - loss: 0.0043 - val_loss: 3.8115e-04\n",
            "Epoch 4/50\n",
            "\u001b[1m29/29\u001b[0m \u001b[32m━━━━━━━━━━━━━━━━━━━━\u001b[0m\u001b[37m\u001b[0m \u001b[1m0s\u001b[0m 7ms/step - loss: 0.0038 - val_loss: 3.8228e-04\n",
            "Epoch 5/50\n",
            "\u001b[1m29/29\u001b[0m \u001b[32m━━━━━━━━━━━━━━━━━━━━\u001b[0m\u001b[37m\u001b[0m \u001b[1m0s\u001b[0m 8ms/step - loss: 0.0035 - val_loss: 3.6886e-04\n",
            "Epoch 6/50\n",
            "\u001b[1m29/29\u001b[0m \u001b[32m━━━━━━━━━━━━━━━━━━━━\u001b[0m\u001b[37m\u001b[0m \u001b[1m0s\u001b[0m 8ms/step - loss: 0.0034 - val_loss: 3.7176e-04\n",
            "Epoch 7/50\n",
            "\u001b[1m29/29\u001b[0m \u001b[32m━━━━━━━━━━━━━━━━━━━━\u001b[0m\u001b[37m\u001b[0m \u001b[1m0s\u001b[0m 8ms/step - loss: 0.0031 - val_loss: 4.0251e-04\n",
            "Epoch 8/50\n",
            "\u001b[1m29/29\u001b[0m \u001b[32m━━━━━━━━━━━━━━━━━━━━\u001b[0m\u001b[37m\u001b[0m \u001b[1m0s\u001b[0m 9ms/step - loss: 0.0029 - val_loss: 4.0797e-04\n",
            "Epoch 9/50\n",
            "\u001b[1m29/29\u001b[0m \u001b[32m━━━━━━━━━━━━━━━━━━━━\u001b[0m\u001b[37m\u001b[0m \u001b[1m0s\u001b[0m 7ms/step - loss: 0.0031 - val_loss: 3.8439e-04\n",
            "Epoch 10/50\n",
            "\u001b[1m29/29\u001b[0m \u001b[32m━━━━━━━━━━━━━━━━━━━━\u001b[0m\u001b[37m\u001b[0m \u001b[1m0s\u001b[0m 8ms/step - loss: 0.0026 - val_loss: 6.9690e-04\n",
            "Epoch 11/50\n",
            "\u001b[1m29/29\u001b[0m \u001b[32m━━━━━━━━━━━━━━━━━━━━\u001b[0m\u001b[37m\u001b[0m \u001b[1m0s\u001b[0m 8ms/step - loss: 0.0025 - val_loss: 4.7530e-04\n",
            "Epoch 12/50\n",
            "\u001b[1m29/29\u001b[0m \u001b[32m━━━━━━━━━━━━━━━━━━━━\u001b[0m\u001b[37m\u001b[0m \u001b[1m0s\u001b[0m 8ms/step - loss: 0.0025 - val_loss: 5.4200e-04\n",
            "Epoch 13/50\n",
            "\u001b[1m29/29\u001b[0m \u001b[32m━━━━━━━━━━━━━━━━━━━━\u001b[0m\u001b[37m\u001b[0m \u001b[1m0s\u001b[0m 8ms/step - loss: 0.0024 - val_loss: 4.1084e-04\n",
            "Epoch 14/50\n",
            "\u001b[1m29/29\u001b[0m \u001b[32m━━━━━━━━━━━━━━━━━━━━\u001b[0m\u001b[37m\u001b[0m \u001b[1m0s\u001b[0m 8ms/step - loss: 0.0022 - val_loss: 6.3542e-04\n",
            "Epoch 15/50\n",
            "\u001b[1m29/29\u001b[0m \u001b[32m━━━━━━━━━━━━━━━━━━━━\u001b[0m\u001b[37m\u001b[0m \u001b[1m0s\u001b[0m 8ms/step - loss: 0.0022 - val_loss: 6.5718e-04\n",
            "Epoch 16/50\n",
            "\u001b[1m29/29\u001b[0m \u001b[32m━━━━━━━━━━━━━━━━━━━━\u001b[0m\u001b[37m\u001b[0m \u001b[1m0s\u001b[0m 9ms/step - loss: 0.0021 - val_loss: 5.4475e-04\n",
            "Epoch 17/50\n",
            "\u001b[1m29/29\u001b[0m \u001b[32m━━━━━━━━━━━━━━━━━━━━\u001b[0m\u001b[37m\u001b[0m \u001b[1m0s\u001b[0m 9ms/step - loss: 0.0019 - val_loss: 4.2535e-04\n",
            "Epoch 18/50\n",
            "\u001b[1m29/29\u001b[0m \u001b[32m━━━━━━━━━━━━━━━━━━━━\u001b[0m\u001b[37m\u001b[0m \u001b[1m0s\u001b[0m 8ms/step - loss: 0.0020 - val_loss: 7.6521e-04\n",
            "Epoch 19/50\n",
            "\u001b[1m29/29\u001b[0m \u001b[32m━━━━━━━━━━━━━━━━━━━━\u001b[0m\u001b[37m\u001b[0m \u001b[1m0s\u001b[0m 8ms/step - loss: 0.0019 - val_loss: 6.4318e-04\n",
            "Epoch 20/50\n",
            "\u001b[1m29/29\u001b[0m \u001b[32m━━━━━━━━━━━━━━━━━━━━\u001b[0m\u001b[37m\u001b[0m \u001b[1m0s\u001b[0m 8ms/step - loss: 0.0019 - val_loss: 4.7804e-04\n",
            "Epoch 21/50\n",
            "\u001b[1m29/29\u001b[0m \u001b[32m━━━━━━━━━━━━━━━━━━━━\u001b[0m\u001b[37m\u001b[0m \u001b[1m0s\u001b[0m 8ms/step - loss: 0.0021 - val_loss: 8.5926e-04\n",
            "Epoch 22/50\n",
            "\u001b[1m29/29\u001b[0m \u001b[32m━━━━━━━━━━━━━━━━━━━━\u001b[0m\u001b[37m\u001b[0m \u001b[1m0s\u001b[0m 8ms/step - loss: 0.0019 - val_loss: 3.7804e-04\n",
            "Epoch 23/50\n",
            "\u001b[1m29/29\u001b[0m \u001b[32m━━━━━━━━━━━━━━━━━━━━\u001b[0m\u001b[37m\u001b[0m \u001b[1m0s\u001b[0m 7ms/step - loss: 0.0018 - val_loss: 3.8504e-04\n",
            "Epoch 24/50\n",
            "\u001b[1m29/29\u001b[0m \u001b[32m━━━━━━━━━━━━━━━━━━━━\u001b[0m\u001b[37m\u001b[0m \u001b[1m0s\u001b[0m 8ms/step - loss: 0.0019 - val_loss: 3.5503e-04\n",
            "Epoch 25/50\n",
            "\u001b[1m29/29\u001b[0m \u001b[32m━━━━━━━━━━━━━━━━━━━━\u001b[0m\u001b[37m\u001b[0m \u001b[1m0s\u001b[0m 8ms/step - loss: 0.0018 - val_loss: 4.4524e-04\n",
            "Epoch 26/50\n",
            "\u001b[1m29/29\u001b[0m \u001b[32m━━━━━━━━━━━━━━━━━━━━\u001b[0m\u001b[37m\u001b[0m \u001b[1m0s\u001b[0m 8ms/step - loss: 0.0018 - val_loss: 5.7980e-04\n",
            "Epoch 27/50\n",
            "\u001b[1m29/29\u001b[0m \u001b[32m━━━━━━━━━━━━━━━━━━━━\u001b[0m\u001b[37m\u001b[0m \u001b[1m0s\u001b[0m 7ms/step - loss: 0.0016 - val_loss: 3.8423e-04\n",
            "Epoch 28/50\n",
            "\u001b[1m29/29\u001b[0m \u001b[32m━━━━━━━━━━━━━━━━━━━━\u001b[0m\u001b[37m\u001b[0m \u001b[1m0s\u001b[0m 7ms/step - loss: 0.0016 - val_loss: 3.3991e-04\n",
            "Epoch 29/50\n",
            "\u001b[1m29/29\u001b[0m \u001b[32m━━━━━━━━━━━━━━━━━━━━\u001b[0m\u001b[37m\u001b[0m \u001b[1m0s\u001b[0m 7ms/step - loss: 0.0015 - val_loss: 4.0045e-04\n",
            "Epoch 30/50\n",
            "\u001b[1m29/29\u001b[0m \u001b[32m━━━━━━━━━━━━━━━━━━━━\u001b[0m\u001b[37m\u001b[0m \u001b[1m0s\u001b[0m 7ms/step - loss: 0.0015 - val_loss: 3.4356e-04\n",
            "Epoch 31/50\n",
            "\u001b[1m29/29\u001b[0m \u001b[32m━━━━━━━━━━━━━━━━━━━━\u001b[0m\u001b[37m\u001b[0m \u001b[1m0s\u001b[0m 8ms/step - loss: 0.0017 - val_loss: 3.4670e-04\n",
            "Epoch 32/50\n",
            "\u001b[1m29/29\u001b[0m \u001b[32m━━━━━━━━━━━━━━━━━━━━\u001b[0m\u001b[37m\u001b[0m \u001b[1m0s\u001b[0m 8ms/step - loss: 0.0014 - val_loss: 3.4237e-04\n",
            "Epoch 33/50\n",
            "\u001b[1m29/29\u001b[0m \u001b[32m━━━━━━━━━━━━━━━━━━━━\u001b[0m\u001b[37m\u001b[0m \u001b[1m0s\u001b[0m 8ms/step - loss: 0.0016 - val_loss: 3.6256e-04\n",
            "Epoch 34/50\n",
            "\u001b[1m29/29\u001b[0m \u001b[32m━━━━━━━━━━━━━━━━━━━━\u001b[0m\u001b[37m\u001b[0m \u001b[1m0s\u001b[0m 8ms/step - loss: 0.0016 - val_loss: 3.7727e-04\n",
            "Epoch 35/50\n",
            "\u001b[1m29/29\u001b[0m \u001b[32m━━━━━━━━━━━━━━━━━━━━\u001b[0m\u001b[37m\u001b[0m \u001b[1m0s\u001b[0m 7ms/step - loss: 0.0014 - val_loss: 3.1148e-04\n",
            "Epoch 36/50\n",
            "\u001b[1m29/29\u001b[0m \u001b[32m━━━━━━━━━━━━━━━━━━━━\u001b[0m\u001b[37m\u001b[0m \u001b[1m0s\u001b[0m 7ms/step - loss: 0.0015 - val_loss: 5.1093e-04\n",
            "Epoch 37/50\n",
            "\u001b[1m29/29\u001b[0m \u001b[32m━━━━━━━━━━━━━━━━━━━━\u001b[0m\u001b[37m\u001b[0m \u001b[1m0s\u001b[0m 7ms/step - loss: 0.0014 - val_loss: 3.6004e-04\n",
            "Epoch 38/50\n",
            "\u001b[1m29/29\u001b[0m \u001b[32m━━━━━━━━━━━━━━━━━━━━\u001b[0m\u001b[37m\u001b[0m \u001b[1m0s\u001b[0m 7ms/step - loss: 0.0014 - val_loss: 3.3164e-04\n",
            "Epoch 39/50\n",
            "\u001b[1m29/29\u001b[0m \u001b[32m━━━━━━━━━━━━━━━━━━━━\u001b[0m\u001b[37m\u001b[0m \u001b[1m0s\u001b[0m 7ms/step - loss: 0.0016 - val_loss: 3.8219e-04\n",
            "Epoch 40/50\n",
            "\u001b[1m29/29\u001b[0m \u001b[32m━━━━━━━━━━━━━━━━━━━━\u001b[0m\u001b[37m\u001b[0m \u001b[1m0s\u001b[0m 8ms/step - loss: 0.0015 - val_loss: 3.7622e-04\n",
            "Epoch 41/50\n",
            "\u001b[1m29/29\u001b[0m \u001b[32m━━━━━━━━━━━━━━━━━━━━\u001b[0m\u001b[37m\u001b[0m \u001b[1m0s\u001b[0m 7ms/step - loss: 0.0014 - val_loss: 3.3083e-04\n",
            "Epoch 42/50\n",
            "\u001b[1m29/29\u001b[0m \u001b[32m━━━━━━━━━━━━━━━━━━━━\u001b[0m\u001b[37m\u001b[0m \u001b[1m0s\u001b[0m 9ms/step - loss: 0.0016 - val_loss: 3.0730e-04\n",
            "Epoch 43/50\n",
            "\u001b[1m29/29\u001b[0m \u001b[32m━━━━━━━━━━━━━━━━━━━━\u001b[0m\u001b[37m\u001b[0m \u001b[1m0s\u001b[0m 8ms/step - loss: 0.0015 - val_loss: 9.1968e-04\n",
            "Epoch 44/50\n",
            "\u001b[1m29/29\u001b[0m \u001b[32m━━━━━━━━━━━━━━━━━━━━\u001b[0m\u001b[37m\u001b[0m \u001b[1m0s\u001b[0m 8ms/step - loss: 0.0013 - val_loss: 3.8035e-04\n",
            "Epoch 45/50\n",
            "\u001b[1m29/29\u001b[0m \u001b[32m━━━━━━━━━━━━━━━━━━━━\u001b[0m\u001b[37m\u001b[0m \u001b[1m0s\u001b[0m 8ms/step - loss: 0.0014 - val_loss: 2.8096e-04\n",
            "Epoch 46/50\n",
            "\u001b[1m29/29\u001b[0m \u001b[32m━━━━━━━━━━━━━━━━━━━━\u001b[0m\u001b[37m\u001b[0m \u001b[1m0s\u001b[0m 8ms/step - loss: 0.0013 - val_loss: 2.8917e-04\n",
            "Epoch 47/50\n",
            "\u001b[1m29/29\u001b[0m \u001b[32m━━━━━━━━━━━━━━━━━━━━\u001b[0m\u001b[37m\u001b[0m \u001b[1m0s\u001b[0m 8ms/step - loss: 0.0013 - val_loss: 5.3172e-04\n",
            "Epoch 48/50\n",
            "\u001b[1m29/29\u001b[0m \u001b[32m━━━━━━━━━━━━━━━━━━━━\u001b[0m\u001b[37m\u001b[0m \u001b[1m0s\u001b[0m 8ms/step - loss: 0.0013 - val_loss: 6.4626e-04\n",
            "Epoch 49/50\n",
            "\u001b[1m29/29\u001b[0m \u001b[32m━━━━━━━━━━━━━━━━━━━━\u001b[0m\u001b[37m\u001b[0m \u001b[1m0s\u001b[0m 8ms/step - loss: 0.0014 - val_loss: 6.9749e-04\n",
            "Epoch 50/50\n",
            "\u001b[1m29/29\u001b[0m \u001b[32m━━━━━━━━━━━━━━━━━━━━\u001b[0m\u001b[37m\u001b[0m \u001b[1m0s\u001b[0m 8ms/step - loss: 0.0014 - val_loss: 3.3933e-04\n",
            "\n",
            "¡Modelo final entrenado!\n",
            "\u001b[1m1/1\u001b[0m \u001b[32m━━━━━━━━━━━━━━━━━━━━\u001b[0m\u001b[37m\u001b[0m \u001b[1m0s\u001b[0m 142ms/step\n",
            "\n",
            "--- PREDICCIONES DEL MODELO FINAL ---\n",
            "               Real   Predicho\n",
            "fecha                         \n",
            "2025-09-12  18.4757  18.520550\n",
            "2025-09-15  18.3635  18.462473\n",
            "2025-09-17  18.3257  18.374588\n",
            "2025-09-18  18.3610  18.305740\n",
            "2025-09-19  18.3892  18.285988\n",
            "2025-09-22  18.4082  18.295023\n",
            "2025-09-23  18.3232  18.317347\n",
            "2025-09-24  18.4312  18.295719\n",
            "2025-09-25  18.4457  18.336952\n",
            "2025-09-26  18.3825  18.371576\n",
            "2025-09-29  18.3507  18.363495\n",
            "2025-09-30  18.3342  18.341492\n",
            "2025-10-01  18.3477  18.317572\n",
            "2025-10-02  18.4843  18.307869\n",
            "2025-10-03  18.3902  18.367596\n"
          ]
        }
      ],
      "source": [
        "# Según tus resultados, el mejor tamaño de ventana fue 30.\n",
        "window_size = 30\n",
        "\n",
        "# Volver a crear el dataset usando ESTE tamaño de ventana\n",
        "print(f\"Creando el dataset final con window_size = {window_size}...\")\n",
        "X, y = create_dataset(df_scaled, window_size)\n",
        "\n",
        "# Volver a separar en train y test\n",
        "n_test = 15\n",
        "X_train, X_test = X[:-n_test], X[-n_test:]\n",
        "y_train, y_test = y[:-n_test], y[-n_test:]\n",
        "\n",
        "# Volver a guardar las fechas para la gráfica final\n",
        "fechas_test = df_2y.index[window_size:][-n_test:]\n",
        "\n",
        "# ¡No olvidar el reshape para LSTM!\n",
        "X_train = X_train.reshape((X_train.shape[0], X_train.shape[1], 1))\n",
        "X_test = X_test.reshape((X_test.shape[0], X_test.shape[1], 1))\n",
        "\n",
        "print(\"Datos listos para el entrenamiento final.\")\n",
        "\n",
        "# Ahora sí, creas y entrenas el modelo como lo propusiste\n",
        "model = Sequential()\n",
        "# Asegúrate de que input_shape usa la variable window_size correcta\n",
        "model.add(LSTM(50, activation=\"relu\", input_shape=(window_size, 1)))\n",
        "model.add(Dense(25, activation=\"relu\"))\n",
        "model.add(Dense(1, activation=\"linear\"))\n",
        "\n",
        "model.compile(optimizer=\"adam\", loss=\"mse\")\n",
        "\n",
        "history = model.fit(X_train, y_train, \n",
        "                    epochs=50, \n",
        "                    batch_size=16, \n",
        "                    validation_data=(X_test, y_test), # Usar X_test, y_test para validar\n",
        "                    verbose=1)\n",
        "\n",
        "# Realizar predicciones con el conjunto de prueba\n",
        "y_pred_scaled = model.predict(X_test)\n",
        "\n",
        "# Invertir la normalización\n",
        "y_pred = scaler.inverse_transform(y_pred_scaled)\n",
        "y_test_real = scaler.inverse_transform(y_test.reshape(-1, 1))\n",
        "\n",
        "# Mostrar los resultados\n",
        "resultados = pd.DataFrame({'Real': y_test_real.flatten(), 'Predicho': y_pred.flatten()}, index=fechas_test)\n",
        "print(\"\\n--- PREDICCIONES DEL MODELO FINAL ---\")\n",
        "print(resultados)"
      ]
    },
    {
      "cell_type": "code",
      "execution_count": 31,
      "metadata": {
        "colab": {
          "base_uri": "https://localhost:8080/"
        },
        "id": "fe6aV9q2oY4Z",
        "outputId": "808e8993-d164-476e-c6c5-4d4aa397025d"
      },
      "outputs": [
        {
          "name": "stdout",
          "output_type": "stream",
          "text": [
            "\u001b[1m1/1\u001b[0m \u001b[32m━━━━━━━━━━━━━━━━━━━━\u001b[0m\u001b[37m\u001b[0m \u001b[1m0s\u001b[0m 77ms/step\n",
            "               Real   Predicho\n",
            "fecha                         \n",
            "2025-09-12  18.4757  18.520550\n",
            "2025-09-15  18.3635  18.462473\n",
            "2025-09-17  18.3257  18.374588\n",
            "2025-09-18  18.3610  18.305740\n",
            "2025-09-19  18.3892  18.285988\n"
          ]
        }
      ],
      "source": [
        "y_pred = model.predict(X_test)\n",
        "y_pred_rescaled = scaler.inverse_transform(y_pred.reshape(-1,1))\n",
        "y_test_rescaled = scaler.inverse_transform(y_test.reshape(-1,1))\n",
        "\n",
        "# DataFrame comparativo\n",
        "df_pred = pd.DataFrame({\n",
        "    \"Real\": y_test_rescaled.flatten(),\n",
        "    \"Predicho\": y_pred_rescaled.flatten()\n",
        "}, index=fechas_test)\n",
        "\n",
        "print(df_pred.head())"
      ]
    },
    {
      "cell_type": "code",
      "execution_count": 34,
      "metadata": {
        "colab": {
          "base_uri": "https://localhost:8080/",
          "height": 559
        },
        "id": "fC18u8AVohYe",
        "outputId": "8851ca28-f232-4b9b-a80a-0be01952defc"
      },
      "outputs": [
        {
          "name": "stdout",
          "output_type": "stream",
          "text": [
            "\u001b[1m1/1\u001b[0m \u001b[32m━━━━━━━━━━━━━━━━━━━━\u001b[0m\u001b[37m\u001b[0m \u001b[1m0s\u001b[0m 38ms/step\n",
            "\u001b[1m15/15\u001b[0m \u001b[32m━━━━━━━━━━━━━━━━━━━━\u001b[0m\u001b[37m\u001b[0m \u001b[1m0s\u001b[0m 3ms/step \n"
          ]
        },
        {
          "data": {
            "application/vnd.plotly.v1+json": {
              "config": {
                "plotlyServerURL": "https://plot.ly"
              },
              "data": [
                {
                  "line": {
                    "color": "lightgray"
                  },
                  "mode": "lines",
                  "name": "Serie Real (últimos 2 años)",
                  "type": "scatter",
                  "x": [
                    "2023-10-03T00:00:00.000000000",
                    "2023-10-04T00:00:00.000000000",
                    "2023-10-05T00:00:00.000000000",
                    "2023-10-06T00:00:00.000000000",
                    "2023-10-09T00:00:00.000000000",
                    "2023-10-10T00:00:00.000000000",
                    "2023-10-11T00:00:00.000000000",
                    "2023-10-12T00:00:00.000000000",
                    "2023-10-13T00:00:00.000000000",
                    "2023-10-16T00:00:00.000000000",
                    "2023-10-17T00:00:00.000000000",
                    "2023-10-18T00:00:00.000000000",
                    "2023-10-19T00:00:00.000000000",
                    "2023-10-20T00:00:00.000000000",
                    "2023-10-23T00:00:00.000000000",
                    "2023-10-24T00:00:00.000000000",
                    "2023-10-25T00:00:00.000000000",
                    "2023-10-26T00:00:00.000000000",
                    "2023-10-27T00:00:00.000000000",
                    "2023-10-30T00:00:00.000000000",
                    "2023-10-31T00:00:00.000000000",
                    "2023-11-01T00:00:00.000000000",
                    "2023-11-03T00:00:00.000000000",
                    "2023-11-06T00:00:00.000000000",
                    "2023-11-07T00:00:00.000000000",
                    "2023-11-08T00:00:00.000000000",
                    "2023-11-09T00:00:00.000000000",
                    "2023-11-10T00:00:00.000000000",
                    "2023-11-13T00:00:00.000000000",
                    "2023-11-14T00:00:00.000000000",
                    "2023-11-15T00:00:00.000000000",
                    "2023-11-16T00:00:00.000000000",
                    "2023-11-17T00:00:00.000000000",
                    "2023-11-21T00:00:00.000000000",
                    "2023-11-22T00:00:00.000000000",
                    "2023-11-23T00:00:00.000000000",
                    "2023-11-24T00:00:00.000000000",
                    "2023-11-27T00:00:00.000000000",
                    "2023-11-28T00:00:00.000000000",
                    "2023-11-29T00:00:00.000000000",
                    "2023-11-30T00:00:00.000000000",
                    "2023-12-01T00:00:00.000000000",
                    "2023-12-04T00:00:00.000000000",
                    "2023-12-05T00:00:00.000000000",
                    "2023-12-06T00:00:00.000000000",
                    "2023-12-07T00:00:00.000000000",
                    "2023-12-08T00:00:00.000000000",
                    "2023-12-11T00:00:00.000000000",
                    "2023-12-13T00:00:00.000000000",
                    "2023-12-14T00:00:00.000000000",
                    "2023-12-15T00:00:00.000000000",
                    "2023-12-18T00:00:00.000000000",
                    "2023-12-19T00:00:00.000000000",
                    "2023-12-20T00:00:00.000000000",
                    "2023-12-21T00:00:00.000000000",
                    "2023-12-22T00:00:00.000000000",
                    "2023-12-26T00:00:00.000000000",
                    "2023-12-27T00:00:00.000000000",
                    "2023-12-28T00:00:00.000000000",
                    "2023-12-29T00:00:00.000000000",
                    "2024-01-02T00:00:00.000000000",
                    "2024-01-03T00:00:00.000000000",
                    "2024-01-04T00:00:00.000000000",
                    "2024-01-05T00:00:00.000000000",
                    "2024-01-08T00:00:00.000000000",
                    "2024-01-09T00:00:00.000000000",
                    "2024-01-10T00:00:00.000000000",
                    "2024-01-11T00:00:00.000000000",
                    "2024-01-12T00:00:00.000000000",
                    "2024-01-15T00:00:00.000000000",
                    "2024-01-16T00:00:00.000000000",
                    "2024-01-17T00:00:00.000000000",
                    "2024-01-18T00:00:00.000000000",
                    "2024-01-19T00:00:00.000000000",
                    "2024-01-22T00:00:00.000000000",
                    "2024-01-23T00:00:00.000000000",
                    "2024-01-24T00:00:00.000000000",
                    "2024-01-25T00:00:00.000000000",
                    "2024-01-26T00:00:00.000000000",
                    "2024-01-29T00:00:00.000000000",
                    "2024-01-30T00:00:00.000000000",
                    "2024-01-31T00:00:00.000000000",
                    "2024-02-01T00:00:00.000000000",
                    "2024-02-02T00:00:00.000000000",
                    "2024-02-06T00:00:00.000000000",
                    "2024-02-07T00:00:00.000000000",
                    "2024-02-08T00:00:00.000000000",
                    "2024-02-09T00:00:00.000000000",
                    "2024-02-12T00:00:00.000000000",
                    "2024-02-13T00:00:00.000000000",
                    "2024-02-14T00:00:00.000000000",
                    "2024-02-15T00:00:00.000000000",
                    "2024-02-16T00:00:00.000000000",
                    "2024-02-19T00:00:00.000000000",
                    "2024-02-20T00:00:00.000000000",
                    "2024-02-21T00:00:00.000000000",
                    "2024-02-22T00:00:00.000000000",
                    "2024-02-23T00:00:00.000000000",
                    "2024-02-26T00:00:00.000000000",
                    "2024-02-27T00:00:00.000000000",
                    "2024-02-28T00:00:00.000000000",
                    "2024-02-29T00:00:00.000000000",
                    "2024-03-01T00:00:00.000000000",
                    "2024-03-04T00:00:00.000000000",
                    "2024-03-05T00:00:00.000000000",
                    "2024-03-06T00:00:00.000000000",
                    "2024-03-07T00:00:00.000000000",
                    "2024-03-08T00:00:00.000000000",
                    "2024-03-11T00:00:00.000000000",
                    "2024-03-12T00:00:00.000000000",
                    "2024-03-13T00:00:00.000000000",
                    "2024-03-14T00:00:00.000000000",
                    "2024-03-15T00:00:00.000000000",
                    "2024-03-19T00:00:00.000000000",
                    "2024-03-20T00:00:00.000000000",
                    "2024-03-21T00:00:00.000000000",
                    "2024-03-22T00:00:00.000000000",
                    "2024-03-25T00:00:00.000000000",
                    "2024-03-26T00:00:00.000000000",
                    "2024-03-27T00:00:00.000000000",
                    "2024-04-01T00:00:00.000000000",
                    "2024-04-02T00:00:00.000000000",
                    "2024-04-03T00:00:00.000000000",
                    "2024-04-04T00:00:00.000000000",
                    "2024-04-05T00:00:00.000000000",
                    "2024-04-08T00:00:00.000000000",
                    "2024-04-09T00:00:00.000000000",
                    "2024-04-10T00:00:00.000000000",
                    "2024-04-11T00:00:00.000000000",
                    "2024-04-12T00:00:00.000000000",
                    "2024-04-15T00:00:00.000000000",
                    "2024-04-16T00:00:00.000000000",
                    "2024-04-17T00:00:00.000000000",
                    "2024-04-18T00:00:00.000000000",
                    "2024-04-19T00:00:00.000000000",
                    "2024-04-22T00:00:00.000000000",
                    "2024-04-23T00:00:00.000000000",
                    "2024-04-24T00:00:00.000000000",
                    "2024-04-25T00:00:00.000000000",
                    "2024-04-26T00:00:00.000000000",
                    "2024-04-29T00:00:00.000000000",
                    "2024-04-30T00:00:00.000000000",
                    "2024-05-02T00:00:00.000000000",
                    "2024-05-03T00:00:00.000000000",
                    "2024-05-06T00:00:00.000000000",
                    "2024-05-07T00:00:00.000000000",
                    "2024-05-08T00:00:00.000000000",
                    "2024-05-09T00:00:00.000000000",
                    "2024-05-10T00:00:00.000000000",
                    "2024-05-13T00:00:00.000000000",
                    "2024-05-14T00:00:00.000000000",
                    "2024-05-15T00:00:00.000000000",
                    "2024-05-16T00:00:00.000000000",
                    "2024-05-17T00:00:00.000000000",
                    "2024-05-20T00:00:00.000000000",
                    "2024-05-21T00:00:00.000000000",
                    "2024-05-22T00:00:00.000000000",
                    "2024-05-23T00:00:00.000000000",
                    "2024-05-24T00:00:00.000000000",
                    "2024-05-27T00:00:00.000000000",
                    "2024-05-28T00:00:00.000000000",
                    "2024-05-29T00:00:00.000000000",
                    "2024-05-30T00:00:00.000000000",
                    "2024-05-31T00:00:00.000000000",
                    "2024-06-03T00:00:00.000000000",
                    "2024-06-04T00:00:00.000000000",
                    "2024-06-05T00:00:00.000000000",
                    "2024-06-06T00:00:00.000000000",
                    "2024-06-07T00:00:00.000000000",
                    "2024-06-10T00:00:00.000000000",
                    "2024-06-11T00:00:00.000000000",
                    "2024-06-12T00:00:00.000000000",
                    "2024-06-13T00:00:00.000000000",
                    "2024-06-14T00:00:00.000000000",
                    "2024-06-17T00:00:00.000000000",
                    "2024-06-18T00:00:00.000000000",
                    "2024-06-19T00:00:00.000000000",
                    "2024-06-20T00:00:00.000000000",
                    "2024-06-21T00:00:00.000000000",
                    "2024-06-24T00:00:00.000000000",
                    "2024-06-25T00:00:00.000000000",
                    "2024-06-26T00:00:00.000000000",
                    "2024-06-27T00:00:00.000000000",
                    "2024-06-28T00:00:00.000000000",
                    "2024-07-01T00:00:00.000000000",
                    "2024-07-02T00:00:00.000000000",
                    "2024-07-03T00:00:00.000000000",
                    "2024-07-04T00:00:00.000000000",
                    "2024-07-05T00:00:00.000000000",
                    "2024-07-08T00:00:00.000000000",
                    "2024-07-09T00:00:00.000000000",
                    "2024-07-10T00:00:00.000000000",
                    "2024-07-11T00:00:00.000000000",
                    "2024-07-12T00:00:00.000000000",
                    "2024-07-15T00:00:00.000000000",
                    "2024-07-16T00:00:00.000000000",
                    "2024-07-17T00:00:00.000000000",
                    "2024-07-18T00:00:00.000000000",
                    "2024-07-19T00:00:00.000000000",
                    "2024-07-22T00:00:00.000000000",
                    "2024-07-23T00:00:00.000000000",
                    "2024-07-24T00:00:00.000000000",
                    "2024-07-25T00:00:00.000000000",
                    "2024-07-26T00:00:00.000000000",
                    "2024-07-29T00:00:00.000000000",
                    "2024-07-30T00:00:00.000000000",
                    "2024-07-31T00:00:00.000000000",
                    "2024-08-01T00:00:00.000000000",
                    "2024-08-02T00:00:00.000000000",
                    "2024-08-05T00:00:00.000000000",
                    "2024-08-06T00:00:00.000000000",
                    "2024-08-07T00:00:00.000000000",
                    "2024-08-08T00:00:00.000000000",
                    "2024-08-09T00:00:00.000000000",
                    "2024-08-12T00:00:00.000000000",
                    "2024-08-13T00:00:00.000000000",
                    "2024-08-14T00:00:00.000000000",
                    "2024-08-15T00:00:00.000000000",
                    "2024-08-16T00:00:00.000000000",
                    "2024-08-19T00:00:00.000000000",
                    "2024-08-20T00:00:00.000000000",
                    "2024-08-21T00:00:00.000000000",
                    "2024-08-22T00:00:00.000000000",
                    "2024-08-23T00:00:00.000000000",
                    "2024-08-26T00:00:00.000000000",
                    "2024-08-27T00:00:00.000000000",
                    "2024-08-28T00:00:00.000000000",
                    "2024-08-29T00:00:00.000000000",
                    "2024-08-30T00:00:00.000000000",
                    "2024-09-02T00:00:00.000000000",
                    "2024-09-03T00:00:00.000000000",
                    "2024-09-04T00:00:00.000000000",
                    "2024-09-05T00:00:00.000000000",
                    "2024-09-06T00:00:00.000000000",
                    "2024-09-09T00:00:00.000000000",
                    "2024-09-10T00:00:00.000000000",
                    "2024-09-11T00:00:00.000000000",
                    "2024-09-12T00:00:00.000000000",
                    "2024-09-13T00:00:00.000000000",
                    "2024-09-17T00:00:00.000000000",
                    "2024-09-18T00:00:00.000000000",
                    "2024-09-19T00:00:00.000000000",
                    "2024-09-20T00:00:00.000000000",
                    "2024-09-23T00:00:00.000000000",
                    "2024-09-24T00:00:00.000000000",
                    "2024-09-25T00:00:00.000000000",
                    "2024-09-26T00:00:00.000000000",
                    "2024-09-27T00:00:00.000000000",
                    "2024-09-30T00:00:00.000000000",
                    "2024-10-02T00:00:00.000000000",
                    "2024-10-03T00:00:00.000000000",
                    "2024-10-04T00:00:00.000000000",
                    "2024-10-07T00:00:00.000000000",
                    "2024-10-08T00:00:00.000000000",
                    "2024-10-09T00:00:00.000000000",
                    "2024-10-10T00:00:00.000000000",
                    "2024-10-11T00:00:00.000000000",
                    "2024-10-14T00:00:00.000000000",
                    "2024-10-15T00:00:00.000000000",
                    "2024-10-16T00:00:00.000000000",
                    "2024-10-17T00:00:00.000000000",
                    "2024-10-18T00:00:00.000000000",
                    "2024-10-21T00:00:00.000000000",
                    "2024-10-22T00:00:00.000000000",
                    "2024-10-23T00:00:00.000000000",
                    "2024-10-24T00:00:00.000000000",
                    "2024-10-25T00:00:00.000000000",
                    "2024-10-28T00:00:00.000000000",
                    "2024-10-29T00:00:00.000000000",
                    "2024-10-30T00:00:00.000000000",
                    "2024-10-31T00:00:00.000000000",
                    "2024-11-01T00:00:00.000000000",
                    "2024-11-04T00:00:00.000000000",
                    "2024-11-05T00:00:00.000000000",
                    "2024-11-06T00:00:00.000000000",
                    "2024-11-07T00:00:00.000000000",
                    "2024-11-08T00:00:00.000000000",
                    "2024-11-11T00:00:00.000000000",
                    "2024-11-12T00:00:00.000000000",
                    "2024-11-13T00:00:00.000000000",
                    "2024-11-14T00:00:00.000000000",
                    "2024-11-15T00:00:00.000000000",
                    "2024-11-19T00:00:00.000000000",
                    "2024-11-20T00:00:00.000000000",
                    "2024-11-21T00:00:00.000000000",
                    "2024-11-22T00:00:00.000000000",
                    "2024-11-25T00:00:00.000000000",
                    "2024-11-26T00:00:00.000000000",
                    "2024-11-27T00:00:00.000000000",
                    "2024-11-28T00:00:00.000000000",
                    "2024-11-29T00:00:00.000000000",
                    "2024-12-02T00:00:00.000000000",
                    "2024-12-03T00:00:00.000000000",
                    "2024-12-04T00:00:00.000000000",
                    "2024-12-05T00:00:00.000000000",
                    "2024-12-06T00:00:00.000000000",
                    "2024-12-09T00:00:00.000000000",
                    "2024-12-10T00:00:00.000000000",
                    "2024-12-11T00:00:00.000000000",
                    "2024-12-13T00:00:00.000000000",
                    "2024-12-16T00:00:00.000000000",
                    "2024-12-17T00:00:00.000000000",
                    "2024-12-18T00:00:00.000000000",
                    "2024-12-19T00:00:00.000000000",
                    "2024-12-20T00:00:00.000000000",
                    "2024-12-23T00:00:00.000000000",
                    "2024-12-24T00:00:00.000000000",
                    "2024-12-26T00:00:00.000000000",
                    "2024-12-27T00:00:00.000000000",
                    "2024-12-30T00:00:00.000000000",
                    "2024-12-31T00:00:00.000000000",
                    "2025-01-02T00:00:00.000000000",
                    "2025-01-03T00:00:00.000000000",
                    "2025-01-06T00:00:00.000000000",
                    "2025-01-07T00:00:00.000000000",
                    "2025-01-08T00:00:00.000000000",
                    "2025-01-09T00:00:00.000000000",
                    "2025-01-10T00:00:00.000000000",
                    "2025-01-13T00:00:00.000000000",
                    "2025-01-14T00:00:00.000000000",
                    "2025-01-15T00:00:00.000000000",
                    "2025-01-16T00:00:00.000000000",
                    "2025-01-17T00:00:00.000000000",
                    "2025-01-20T00:00:00.000000000",
                    "2025-01-21T00:00:00.000000000",
                    "2025-01-22T00:00:00.000000000",
                    "2025-01-23T00:00:00.000000000",
                    "2025-01-24T00:00:00.000000000",
                    "2025-01-27T00:00:00.000000000",
                    "2025-01-28T00:00:00.000000000",
                    "2025-01-29T00:00:00.000000000",
                    "2025-01-30T00:00:00.000000000",
                    "2025-01-31T00:00:00.000000000",
                    "2025-02-04T00:00:00.000000000",
                    "2025-02-05T00:00:00.000000000",
                    "2025-02-06T00:00:00.000000000",
                    "2025-02-07T00:00:00.000000000",
                    "2025-02-10T00:00:00.000000000",
                    "2025-02-11T00:00:00.000000000",
                    "2025-02-12T00:00:00.000000000",
                    "2025-02-13T00:00:00.000000000",
                    "2025-02-14T00:00:00.000000000",
                    "2025-02-17T00:00:00.000000000",
                    "2025-02-18T00:00:00.000000000",
                    "2025-02-19T00:00:00.000000000",
                    "2025-02-20T00:00:00.000000000",
                    "2025-02-21T00:00:00.000000000",
                    "2025-02-24T00:00:00.000000000",
                    "2025-02-25T00:00:00.000000000",
                    "2025-02-26T00:00:00.000000000",
                    "2025-02-27T00:00:00.000000000",
                    "2025-02-28T00:00:00.000000000",
                    "2025-03-03T00:00:00.000000000",
                    "2025-03-04T00:00:00.000000000",
                    "2025-03-05T00:00:00.000000000",
                    "2025-03-06T00:00:00.000000000",
                    "2025-03-07T00:00:00.000000000",
                    "2025-03-10T00:00:00.000000000",
                    "2025-03-11T00:00:00.000000000",
                    "2025-03-12T00:00:00.000000000",
                    "2025-03-13T00:00:00.000000000",
                    "2025-03-14T00:00:00.000000000",
                    "2025-03-18T00:00:00.000000000",
                    "2025-03-19T00:00:00.000000000",
                    "2025-03-20T00:00:00.000000000",
                    "2025-03-21T00:00:00.000000000",
                    "2025-03-24T00:00:00.000000000",
                    "2025-03-25T00:00:00.000000000",
                    "2025-03-26T00:00:00.000000000",
                    "2025-03-27T00:00:00.000000000",
                    "2025-03-28T00:00:00.000000000",
                    "2025-03-31T00:00:00.000000000",
                    "2025-04-01T00:00:00.000000000",
                    "2025-04-02T00:00:00.000000000",
                    "2025-04-03T00:00:00.000000000",
                    "2025-04-04T00:00:00.000000000",
                    "2025-04-07T00:00:00.000000000",
                    "2025-04-08T00:00:00.000000000",
                    "2025-04-09T00:00:00.000000000",
                    "2025-04-10T00:00:00.000000000",
                    "2025-04-11T00:00:00.000000000",
                    "2025-04-14T00:00:00.000000000",
                    "2025-04-15T00:00:00.000000000",
                    "2025-04-16T00:00:00.000000000",
                    "2025-04-21T00:00:00.000000000",
                    "2025-04-22T00:00:00.000000000",
                    "2025-04-23T00:00:00.000000000",
                    "2025-04-24T00:00:00.000000000",
                    "2025-04-25T00:00:00.000000000",
                    "2025-04-28T00:00:00.000000000",
                    "2025-04-29T00:00:00.000000000",
                    "2025-04-30T00:00:00.000000000",
                    "2025-05-02T00:00:00.000000000",
                    "2025-05-05T00:00:00.000000000",
                    "2025-05-06T00:00:00.000000000",
                    "2025-05-07T00:00:00.000000000",
                    "2025-05-08T00:00:00.000000000",
                    "2025-05-09T00:00:00.000000000",
                    "2025-05-12T00:00:00.000000000",
                    "2025-05-13T00:00:00.000000000",
                    "2025-05-14T00:00:00.000000000",
                    "2025-05-15T00:00:00.000000000",
                    "2025-05-16T00:00:00.000000000",
                    "2025-05-19T00:00:00.000000000",
                    "2025-05-20T00:00:00.000000000",
                    "2025-05-21T00:00:00.000000000",
                    "2025-05-22T00:00:00.000000000",
                    "2025-05-23T00:00:00.000000000",
                    "2025-05-26T00:00:00.000000000",
                    "2025-05-27T00:00:00.000000000",
                    "2025-05-28T00:00:00.000000000",
                    "2025-05-29T00:00:00.000000000",
                    "2025-05-30T00:00:00.000000000",
                    "2025-06-02T00:00:00.000000000",
                    "2025-06-03T00:00:00.000000000",
                    "2025-06-04T00:00:00.000000000",
                    "2025-06-05T00:00:00.000000000",
                    "2025-06-06T00:00:00.000000000",
                    "2025-06-09T00:00:00.000000000",
                    "2025-06-10T00:00:00.000000000",
                    "2025-06-11T00:00:00.000000000",
                    "2025-06-12T00:00:00.000000000",
                    "2025-06-13T00:00:00.000000000",
                    "2025-06-16T00:00:00.000000000",
                    "2025-06-17T00:00:00.000000000",
                    "2025-06-18T00:00:00.000000000",
                    "2025-06-19T00:00:00.000000000",
                    "2025-06-20T00:00:00.000000000",
                    "2025-06-23T00:00:00.000000000",
                    "2025-06-24T00:00:00.000000000",
                    "2025-06-25T00:00:00.000000000",
                    "2025-06-26T00:00:00.000000000",
                    "2025-06-27T00:00:00.000000000",
                    "2025-06-30T00:00:00.000000000",
                    "2025-07-01T00:00:00.000000000",
                    "2025-07-02T00:00:00.000000000",
                    "2025-07-03T00:00:00.000000000",
                    "2025-07-04T00:00:00.000000000",
                    "2025-07-07T00:00:00.000000000",
                    "2025-07-08T00:00:00.000000000",
                    "2025-07-09T00:00:00.000000000",
                    "2025-07-10T00:00:00.000000000",
                    "2025-07-11T00:00:00.000000000",
                    "2025-07-14T00:00:00.000000000",
                    "2025-07-15T00:00:00.000000000",
                    "2025-07-16T00:00:00.000000000",
                    "2025-07-17T00:00:00.000000000",
                    "2025-07-18T00:00:00.000000000",
                    "2025-07-21T00:00:00.000000000",
                    "2025-07-22T00:00:00.000000000",
                    "2025-07-23T00:00:00.000000000",
                    "2025-07-24T00:00:00.000000000",
                    "2025-07-25T00:00:00.000000000",
                    "2025-07-28T00:00:00.000000000",
                    "2025-07-29T00:00:00.000000000",
                    "2025-07-30T00:00:00.000000000",
                    "2025-07-31T00:00:00.000000000",
                    "2025-08-01T00:00:00.000000000",
                    "2025-08-04T00:00:00.000000000",
                    "2025-08-05T00:00:00.000000000",
                    "2025-08-06T00:00:00.000000000",
                    "2025-08-07T00:00:00.000000000",
                    "2025-08-08T00:00:00.000000000",
                    "2025-08-11T00:00:00.000000000",
                    "2025-08-12T00:00:00.000000000",
                    "2025-08-13T00:00:00.000000000",
                    "2025-08-14T00:00:00.000000000",
                    "2025-08-15T00:00:00.000000000",
                    "2025-08-18T00:00:00.000000000",
                    "2025-08-19T00:00:00.000000000",
                    "2025-08-20T00:00:00.000000000",
                    "2025-08-21T00:00:00.000000000",
                    "2025-08-22T00:00:00.000000000",
                    "2025-08-25T00:00:00.000000000",
                    "2025-08-26T00:00:00.000000000",
                    "2025-08-27T00:00:00.000000000",
                    "2025-08-28T00:00:00.000000000",
                    "2025-08-29T00:00:00.000000000",
                    "2025-09-01T00:00:00.000000000",
                    "2025-09-02T00:00:00.000000000",
                    "2025-09-03T00:00:00.000000000",
                    "2025-09-04T00:00:00.000000000",
                    "2025-09-05T00:00:00.000000000",
                    "2025-09-08T00:00:00.000000000",
                    "2025-09-09T00:00:00.000000000",
                    "2025-09-10T00:00:00.000000000",
                    "2025-09-11T00:00:00.000000000",
                    "2025-09-12T00:00:00.000000000",
                    "2025-09-15T00:00:00.000000000",
                    "2025-09-17T00:00:00.000000000",
                    "2025-09-18T00:00:00.000000000",
                    "2025-09-19T00:00:00.000000000",
                    "2025-09-22T00:00:00.000000000",
                    "2025-09-23T00:00:00.000000000",
                    "2025-09-24T00:00:00.000000000",
                    "2025-09-25T00:00:00.000000000",
                    "2025-09-26T00:00:00.000000000",
                    "2025-09-29T00:00:00.000000000",
                    "2025-09-30T00:00:00.000000000",
                    "2025-10-01T00:00:00.000000000",
                    "2025-10-02T00:00:00.000000000",
                    "2025-10-03T00:00:00.000000000"
                  ],
                  "y": {
                    "bdata": "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",
                    "dtype": "f8"
                  }
                },
                {
                  "line": {
                    "color": "orange"
                  },
                  "mode": "lines",
                  "name": "Predicho (train + test)",
                  "type": "scatter",
                  "x": [
                    "2023-11-15T00:00:00.000000000",
                    "2023-11-16T00:00:00.000000000",
                    "2023-11-17T00:00:00.000000000",
                    "2023-11-21T00:00:00.000000000",
                    "2023-11-22T00:00:00.000000000",
                    "2023-11-23T00:00:00.000000000",
                    "2023-11-24T00:00:00.000000000",
                    "2023-11-27T00:00:00.000000000",
                    "2023-11-28T00:00:00.000000000",
                    "2023-11-29T00:00:00.000000000",
                    "2023-11-30T00:00:00.000000000",
                    "2023-12-01T00:00:00.000000000",
                    "2023-12-04T00:00:00.000000000",
                    "2023-12-05T00:00:00.000000000",
                    "2023-12-06T00:00:00.000000000",
                    "2023-12-07T00:00:00.000000000",
                    "2023-12-08T00:00:00.000000000",
                    "2023-12-11T00:00:00.000000000",
                    "2023-12-13T00:00:00.000000000",
                    "2023-12-14T00:00:00.000000000",
                    "2023-12-15T00:00:00.000000000",
                    "2023-12-18T00:00:00.000000000",
                    "2023-12-19T00:00:00.000000000",
                    "2023-12-20T00:00:00.000000000",
                    "2023-12-21T00:00:00.000000000",
                    "2023-12-22T00:00:00.000000000",
                    "2023-12-26T00:00:00.000000000",
                    "2023-12-27T00:00:00.000000000",
                    "2023-12-28T00:00:00.000000000",
                    "2023-12-29T00:00:00.000000000",
                    "2024-01-02T00:00:00.000000000",
                    "2024-01-03T00:00:00.000000000",
                    "2024-01-04T00:00:00.000000000",
                    "2024-01-05T00:00:00.000000000",
                    "2024-01-08T00:00:00.000000000",
                    "2024-01-09T00:00:00.000000000",
                    "2024-01-10T00:00:00.000000000",
                    "2024-01-11T00:00:00.000000000",
                    "2024-01-12T00:00:00.000000000",
                    "2024-01-15T00:00:00.000000000",
                    "2024-01-16T00:00:00.000000000",
                    "2024-01-17T00:00:00.000000000",
                    "2024-01-18T00:00:00.000000000",
                    "2024-01-19T00:00:00.000000000",
                    "2024-01-22T00:00:00.000000000",
                    "2024-01-23T00:00:00.000000000",
                    "2024-01-24T00:00:00.000000000",
                    "2024-01-25T00:00:00.000000000",
                    "2024-01-26T00:00:00.000000000",
                    "2024-01-29T00:00:00.000000000",
                    "2024-01-30T00:00:00.000000000",
                    "2024-01-31T00:00:00.000000000",
                    "2024-02-01T00:00:00.000000000",
                    "2024-02-02T00:00:00.000000000",
                    "2024-02-06T00:00:00.000000000",
                    "2024-02-07T00:00:00.000000000",
                    "2024-02-08T00:00:00.000000000",
                    "2024-02-09T00:00:00.000000000",
                    "2024-02-12T00:00:00.000000000",
                    "2024-02-13T00:00:00.000000000",
                    "2024-02-14T00:00:00.000000000",
                    "2024-02-15T00:00:00.000000000",
                    "2024-02-16T00:00:00.000000000",
                    "2024-02-19T00:00:00.000000000",
                    "2024-02-20T00:00:00.000000000",
                    "2024-02-21T00:00:00.000000000",
                    "2024-02-22T00:00:00.000000000",
                    "2024-02-23T00:00:00.000000000",
                    "2024-02-26T00:00:00.000000000",
                    "2024-02-27T00:00:00.000000000",
                    "2024-02-28T00:00:00.000000000",
                    "2024-02-29T00:00:00.000000000",
                    "2024-03-01T00:00:00.000000000",
                    "2024-03-04T00:00:00.000000000",
                    "2024-03-05T00:00:00.000000000",
                    "2024-03-06T00:00:00.000000000",
                    "2024-03-07T00:00:00.000000000",
                    "2024-03-08T00:00:00.000000000",
                    "2024-03-11T00:00:00.000000000",
                    "2024-03-12T00:00:00.000000000",
                    "2024-03-13T00:00:00.000000000",
                    "2024-03-14T00:00:00.000000000",
                    "2024-03-15T00:00:00.000000000",
                    "2024-03-19T00:00:00.000000000",
                    "2024-03-20T00:00:00.000000000",
                    "2024-03-21T00:00:00.000000000",
                    "2024-03-22T00:00:00.000000000",
                    "2024-03-25T00:00:00.000000000",
                    "2024-03-26T00:00:00.000000000",
                    "2024-03-27T00:00:00.000000000",
                    "2024-04-01T00:00:00.000000000",
                    "2024-04-02T00:00:00.000000000",
                    "2024-04-03T00:00:00.000000000",
                    "2024-04-04T00:00:00.000000000",
                    "2024-04-05T00:00:00.000000000",
                    "2024-04-08T00:00:00.000000000",
                    "2024-04-09T00:00:00.000000000",
                    "2024-04-10T00:00:00.000000000",
                    "2024-04-11T00:00:00.000000000",
                    "2024-04-12T00:00:00.000000000",
                    "2024-04-15T00:00:00.000000000",
                    "2024-04-16T00:00:00.000000000",
                    "2024-04-17T00:00:00.000000000",
                    "2024-04-18T00:00:00.000000000",
                    "2024-04-19T00:00:00.000000000",
                    "2024-04-22T00:00:00.000000000",
                    "2024-04-23T00:00:00.000000000",
                    "2024-04-24T00:00:00.000000000",
                    "2024-04-25T00:00:00.000000000",
                    "2024-04-26T00:00:00.000000000",
                    "2024-04-29T00:00:00.000000000",
                    "2024-04-30T00:00:00.000000000",
                    "2024-05-02T00:00:00.000000000",
                    "2024-05-03T00:00:00.000000000",
                    "2024-05-06T00:00:00.000000000",
                    "2024-05-07T00:00:00.000000000",
                    "2024-05-08T00:00:00.000000000",
                    "2024-05-09T00:00:00.000000000",
                    "2024-05-10T00:00:00.000000000",
                    "2024-05-13T00:00:00.000000000",
                    "2024-05-14T00:00:00.000000000",
                    "2024-05-15T00:00:00.000000000",
                    "2024-05-16T00:00:00.000000000",
                    "2024-05-17T00:00:00.000000000",
                    "2024-05-20T00:00:00.000000000",
                    "2024-05-21T00:00:00.000000000",
                    "2024-05-22T00:00:00.000000000",
                    "2024-05-23T00:00:00.000000000",
                    "2024-05-24T00:00:00.000000000",
                    "2024-05-27T00:00:00.000000000",
                    "2024-05-28T00:00:00.000000000",
                    "2024-05-29T00:00:00.000000000",
                    "2024-05-30T00:00:00.000000000",
                    "2024-05-31T00:00:00.000000000",
                    "2024-06-03T00:00:00.000000000",
                    "2024-06-04T00:00:00.000000000",
                    "2024-06-05T00:00:00.000000000",
                    "2024-06-06T00:00:00.000000000",
                    "2024-06-07T00:00:00.000000000",
                    "2024-06-10T00:00:00.000000000",
                    "2024-06-11T00:00:00.000000000",
                    "2024-06-12T00:00:00.000000000",
                    "2024-06-13T00:00:00.000000000",
                    "2024-06-14T00:00:00.000000000",
                    "2024-06-17T00:00:00.000000000",
                    "2024-06-18T00:00:00.000000000",
                    "2024-06-19T00:00:00.000000000",
                    "2024-06-20T00:00:00.000000000",
                    "2024-06-21T00:00:00.000000000",
                    "2024-06-24T00:00:00.000000000",
                    "2024-06-25T00:00:00.000000000",
                    "2024-06-26T00:00:00.000000000",
                    "2024-06-27T00:00:00.000000000",
                    "2024-06-28T00:00:00.000000000",
                    "2024-07-01T00:00:00.000000000",
                    "2024-07-02T00:00:00.000000000",
                    "2024-07-03T00:00:00.000000000",
                    "2024-07-04T00:00:00.000000000",
                    "2024-07-05T00:00:00.000000000",
                    "2024-07-08T00:00:00.000000000",
                    "2024-07-09T00:00:00.000000000",
                    "2024-07-10T00:00:00.000000000",
                    "2024-07-11T00:00:00.000000000",
                    "2024-07-12T00:00:00.000000000",
                    "2024-07-15T00:00:00.000000000",
                    "2024-07-16T00:00:00.000000000",
                    "2024-07-17T00:00:00.000000000",
                    "2024-07-18T00:00:00.000000000",
                    "2024-07-19T00:00:00.000000000",
                    "2024-07-22T00:00:00.000000000",
                    "2024-07-23T00:00:00.000000000",
                    "2024-07-24T00:00:00.000000000",
                    "2024-07-25T00:00:00.000000000",
                    "2024-07-26T00:00:00.000000000",
                    "2024-07-29T00:00:00.000000000",
                    "2024-07-30T00:00:00.000000000",
                    "2024-07-31T00:00:00.000000000",
                    "2024-08-01T00:00:00.000000000",
                    "2024-08-02T00:00:00.000000000",
                    "2024-08-05T00:00:00.000000000",
                    "2024-08-06T00:00:00.000000000",
                    "2024-08-07T00:00:00.000000000",
                    "2024-08-08T00:00:00.000000000",
                    "2024-08-09T00:00:00.000000000",
                    "2024-08-12T00:00:00.000000000",
                    "2024-08-13T00:00:00.000000000",
                    "2024-08-14T00:00:00.000000000",
                    "2024-08-15T00:00:00.000000000",
                    "2024-08-16T00:00:00.000000000",
                    "2024-08-19T00:00:00.000000000",
                    "2024-08-20T00:00:00.000000000",
                    "2024-08-21T00:00:00.000000000",
                    "2024-08-22T00:00:00.000000000",
                    "2024-08-23T00:00:00.000000000",
                    "2024-08-26T00:00:00.000000000",
                    "2024-08-27T00:00:00.000000000",
                    "2024-08-28T00:00:00.000000000",
                    "2024-08-29T00:00:00.000000000",
                    "2024-08-30T00:00:00.000000000",
                    "2024-09-02T00:00:00.000000000",
                    "2024-09-03T00:00:00.000000000",
                    "2024-09-04T00:00:00.000000000",
                    "2024-09-05T00:00:00.000000000",
                    "2024-09-06T00:00:00.000000000",
                    "2024-09-09T00:00:00.000000000",
                    "2024-09-10T00:00:00.000000000",
                    "2024-09-11T00:00:00.000000000",
                    "2024-09-12T00:00:00.000000000",
                    "2024-09-13T00:00:00.000000000",
                    "2024-09-17T00:00:00.000000000",
                    "2024-09-18T00:00:00.000000000",
                    "2024-09-19T00:00:00.000000000",
                    "2024-09-20T00:00:00.000000000",
                    "2024-09-23T00:00:00.000000000",
                    "2024-09-24T00:00:00.000000000",
                    "2024-09-25T00:00:00.000000000",
                    "2024-09-26T00:00:00.000000000",
                    "2024-09-27T00:00:00.000000000",
                    "2024-09-30T00:00:00.000000000",
                    "2024-10-02T00:00:00.000000000",
                    "2024-10-03T00:00:00.000000000",
                    "2024-10-04T00:00:00.000000000",
                    "2024-10-07T00:00:00.000000000",
                    "2024-10-08T00:00:00.000000000",
                    "2024-10-09T00:00:00.000000000",
                    "2024-10-10T00:00:00.000000000",
                    "2024-10-11T00:00:00.000000000",
                    "2024-10-14T00:00:00.000000000",
                    "2024-10-15T00:00:00.000000000",
                    "2024-10-16T00:00:00.000000000",
                    "2024-10-17T00:00:00.000000000",
                    "2024-10-18T00:00:00.000000000",
                    "2024-10-21T00:00:00.000000000",
                    "2024-10-22T00:00:00.000000000",
                    "2024-10-23T00:00:00.000000000",
                    "2024-10-24T00:00:00.000000000",
                    "2024-10-25T00:00:00.000000000",
                    "2024-10-28T00:00:00.000000000",
                    "2024-10-29T00:00:00.000000000",
                    "2024-10-30T00:00:00.000000000",
                    "2024-10-31T00:00:00.000000000",
                    "2024-11-01T00:00:00.000000000",
                    "2024-11-04T00:00:00.000000000",
                    "2024-11-05T00:00:00.000000000",
                    "2024-11-06T00:00:00.000000000",
                    "2024-11-07T00:00:00.000000000",
                    "2024-11-08T00:00:00.000000000",
                    "2024-11-11T00:00:00.000000000",
                    "2024-11-12T00:00:00.000000000",
                    "2024-11-13T00:00:00.000000000",
                    "2024-11-14T00:00:00.000000000",
                    "2024-11-15T00:00:00.000000000",
                    "2024-11-19T00:00:00.000000000",
                    "2024-11-20T00:00:00.000000000",
                    "2024-11-21T00:00:00.000000000",
                    "2024-11-22T00:00:00.000000000",
                    "2024-11-25T00:00:00.000000000",
                    "2024-11-26T00:00:00.000000000",
                    "2024-11-27T00:00:00.000000000",
                    "2024-11-28T00:00:00.000000000",
                    "2024-11-29T00:00:00.000000000",
                    "2024-12-02T00:00:00.000000000",
                    "2024-12-03T00:00:00.000000000",
                    "2024-12-04T00:00:00.000000000",
                    "2024-12-05T00:00:00.000000000",
                    "2024-12-06T00:00:00.000000000",
                    "2024-12-09T00:00:00.000000000",
                    "2024-12-10T00:00:00.000000000",
                    "2024-12-11T00:00:00.000000000",
                    "2024-12-13T00:00:00.000000000",
                    "2024-12-16T00:00:00.000000000",
                    "2024-12-17T00:00:00.000000000",
                    "2024-12-18T00:00:00.000000000",
                    "2024-12-19T00:00:00.000000000",
                    "2024-12-20T00:00:00.000000000",
                    "2024-12-23T00:00:00.000000000",
                    "2024-12-24T00:00:00.000000000",
                    "2024-12-26T00:00:00.000000000",
                    "2024-12-27T00:00:00.000000000",
                    "2024-12-30T00:00:00.000000000",
                    "2024-12-31T00:00:00.000000000",
                    "2025-01-02T00:00:00.000000000",
                    "2025-01-03T00:00:00.000000000",
                    "2025-01-06T00:00:00.000000000",
                    "2025-01-07T00:00:00.000000000",
                    "2025-01-08T00:00:00.000000000",
                    "2025-01-09T00:00:00.000000000",
                    "2025-01-10T00:00:00.000000000",
                    "2025-01-13T00:00:00.000000000",
                    "2025-01-14T00:00:00.000000000",
                    "2025-01-15T00:00:00.000000000",
                    "2025-01-16T00:00:00.000000000",
                    "2025-01-17T00:00:00.000000000",
                    "2025-01-20T00:00:00.000000000",
                    "2025-01-21T00:00:00.000000000",
                    "2025-01-22T00:00:00.000000000",
                    "2025-01-23T00:00:00.000000000",
                    "2025-01-24T00:00:00.000000000",
                    "2025-01-27T00:00:00.000000000",
                    "2025-01-28T00:00:00.000000000",
                    "2025-01-29T00:00:00.000000000",
                    "2025-01-30T00:00:00.000000000",
                    "2025-01-31T00:00:00.000000000",
                    "2025-02-04T00:00:00.000000000",
                    "2025-02-05T00:00:00.000000000",
                    "2025-02-06T00:00:00.000000000",
                    "2025-02-07T00:00:00.000000000",
                    "2025-02-10T00:00:00.000000000",
                    "2025-02-11T00:00:00.000000000",
                    "2025-02-12T00:00:00.000000000",
                    "2025-02-13T00:00:00.000000000",
                    "2025-02-14T00:00:00.000000000",
                    "2025-02-17T00:00:00.000000000",
                    "2025-02-18T00:00:00.000000000",
                    "2025-02-19T00:00:00.000000000",
                    "2025-02-20T00:00:00.000000000",
                    "2025-02-21T00:00:00.000000000",
                    "2025-02-24T00:00:00.000000000",
                    "2025-02-25T00:00:00.000000000",
                    "2025-02-26T00:00:00.000000000",
                    "2025-02-27T00:00:00.000000000",
                    "2025-02-28T00:00:00.000000000",
                    "2025-03-03T00:00:00.000000000",
                    "2025-03-04T00:00:00.000000000",
                    "2025-03-05T00:00:00.000000000",
                    "2025-03-06T00:00:00.000000000",
                    "2025-03-07T00:00:00.000000000",
                    "2025-03-10T00:00:00.000000000",
                    "2025-03-11T00:00:00.000000000",
                    "2025-03-12T00:00:00.000000000",
                    "2025-03-13T00:00:00.000000000",
                    "2025-03-14T00:00:00.000000000",
                    "2025-03-18T00:00:00.000000000",
                    "2025-03-19T00:00:00.000000000",
                    "2025-03-20T00:00:00.000000000",
                    "2025-03-21T00:00:00.000000000",
                    "2025-03-24T00:00:00.000000000",
                    "2025-03-25T00:00:00.000000000",
                    "2025-03-26T00:00:00.000000000",
                    "2025-03-27T00:00:00.000000000",
                    "2025-03-28T00:00:00.000000000",
                    "2025-03-31T00:00:00.000000000",
                    "2025-04-01T00:00:00.000000000",
                    "2025-04-02T00:00:00.000000000",
                    "2025-04-03T00:00:00.000000000",
                    "2025-04-04T00:00:00.000000000",
                    "2025-04-07T00:00:00.000000000",
                    "2025-04-08T00:00:00.000000000",
                    "2025-04-09T00:00:00.000000000",
                    "2025-04-10T00:00:00.000000000",
                    "2025-04-11T00:00:00.000000000",
                    "2025-04-14T00:00:00.000000000",
                    "2025-04-15T00:00:00.000000000",
                    "2025-04-16T00:00:00.000000000",
                    "2025-04-21T00:00:00.000000000",
                    "2025-04-22T00:00:00.000000000",
                    "2025-04-23T00:00:00.000000000",
                    "2025-04-24T00:00:00.000000000",
                    "2025-04-25T00:00:00.000000000",
                    "2025-04-28T00:00:00.000000000",
                    "2025-04-29T00:00:00.000000000",
                    "2025-04-30T00:00:00.000000000",
                    "2025-05-02T00:00:00.000000000",
                    "2025-05-05T00:00:00.000000000",
                    "2025-05-06T00:00:00.000000000",
                    "2025-05-07T00:00:00.000000000",
                    "2025-05-08T00:00:00.000000000",
                    "2025-05-09T00:00:00.000000000",
                    "2025-05-12T00:00:00.000000000",
                    "2025-05-13T00:00:00.000000000",
                    "2025-05-14T00:00:00.000000000",
                    "2025-05-15T00:00:00.000000000",
                    "2025-05-16T00:00:00.000000000",
                    "2025-05-19T00:00:00.000000000",
                    "2025-05-20T00:00:00.000000000",
                    "2025-05-21T00:00:00.000000000",
                    "2025-05-22T00:00:00.000000000",
                    "2025-05-23T00:00:00.000000000",
                    "2025-05-26T00:00:00.000000000",
                    "2025-05-27T00:00:00.000000000",
                    "2025-05-28T00:00:00.000000000",
                    "2025-05-29T00:00:00.000000000",
                    "2025-05-30T00:00:00.000000000",
                    "2025-06-02T00:00:00.000000000",
                    "2025-06-03T00:00:00.000000000",
                    "2025-06-04T00:00:00.000000000",
                    "2025-06-05T00:00:00.000000000",
                    "2025-06-06T00:00:00.000000000",
                    "2025-06-09T00:00:00.000000000",
                    "2025-06-10T00:00:00.000000000",
                    "2025-06-11T00:00:00.000000000",
                    "2025-06-12T00:00:00.000000000",
                    "2025-06-13T00:00:00.000000000",
                    "2025-06-16T00:00:00.000000000",
                    "2025-06-17T00:00:00.000000000",
                    "2025-06-18T00:00:00.000000000",
                    "2025-06-19T00:00:00.000000000",
                    "2025-06-20T00:00:00.000000000",
                    "2025-06-23T00:00:00.000000000",
                    "2025-06-24T00:00:00.000000000",
                    "2025-06-25T00:00:00.000000000",
                    "2025-06-26T00:00:00.000000000",
                    "2025-06-27T00:00:00.000000000",
                    "2025-06-30T00:00:00.000000000",
                    "2025-07-01T00:00:00.000000000",
                    "2025-07-02T00:00:00.000000000",
                    "2025-07-03T00:00:00.000000000",
                    "2025-07-04T00:00:00.000000000",
                    "2025-07-07T00:00:00.000000000",
                    "2025-07-08T00:00:00.000000000",
                    "2025-07-09T00:00:00.000000000",
                    "2025-07-10T00:00:00.000000000",
                    "2025-07-11T00:00:00.000000000",
                    "2025-07-14T00:00:00.000000000",
                    "2025-07-15T00:00:00.000000000",
                    "2025-07-16T00:00:00.000000000",
                    "2025-07-17T00:00:00.000000000",
                    "2025-07-18T00:00:00.000000000",
                    "2025-07-21T00:00:00.000000000",
                    "2025-07-22T00:00:00.000000000",
                    "2025-07-23T00:00:00.000000000",
                    "2025-07-24T00:00:00.000000000",
                    "2025-07-25T00:00:00.000000000",
                    "2025-07-28T00:00:00.000000000",
                    "2025-07-29T00:00:00.000000000",
                    "2025-07-30T00:00:00.000000000",
                    "2025-07-31T00:00:00.000000000",
                    "2025-08-01T00:00:00.000000000",
                    "2025-08-04T00:00:00.000000000",
                    "2025-08-05T00:00:00.000000000",
                    "2025-08-06T00:00:00.000000000",
                    "2025-08-07T00:00:00.000000000",
                    "2025-08-08T00:00:00.000000000",
                    "2025-08-11T00:00:00.000000000",
                    "2025-08-12T00:00:00.000000000",
                    "2025-08-13T00:00:00.000000000",
                    "2025-08-14T00:00:00.000000000",
                    "2025-08-15T00:00:00.000000000",
                    "2025-08-18T00:00:00.000000000",
                    "2025-08-19T00:00:00.000000000",
                    "2025-08-20T00:00:00.000000000",
                    "2025-08-21T00:00:00.000000000",
                    "2025-08-22T00:00:00.000000000",
                    "2025-08-25T00:00:00.000000000",
                    "2025-08-26T00:00:00.000000000",
                    "2025-08-27T00:00:00.000000000",
                    "2025-08-28T00:00:00.000000000",
                    "2025-08-29T00:00:00.000000000",
                    "2025-09-01T00:00:00.000000000",
                    "2025-09-02T00:00:00.000000000",
                    "2025-09-03T00:00:00.000000000",
                    "2025-09-04T00:00:00.000000000",
                    "2025-09-05T00:00:00.000000000",
                    "2025-09-08T00:00:00.000000000",
                    "2025-09-09T00:00:00.000000000",
                    "2025-09-10T00:00:00.000000000",
                    "2025-09-11T00:00:00.000000000",
                    "2025-09-12T00:00:00.000000000",
                    "2025-09-15T00:00:00.000000000",
                    "2025-09-17T00:00:00.000000000",
                    "2025-09-18T00:00:00.000000000",
                    "2025-09-19T00:00:00.000000000",
                    "2025-09-22T00:00:00.000000000",
                    "2025-09-23T00:00:00.000000000",
                    "2025-09-24T00:00:00.000000000",
                    "2025-09-25T00:00:00.000000000",
                    "2025-09-26T00:00:00.000000000",
                    "2025-09-29T00:00:00.000000000",
                    "2025-09-30T00:00:00.000000000",
                    "2025-10-01T00:00:00.000000000",
                    "2025-10-02T00:00:00.000000000",
                    "2025-10-03T00:00:00.000000000"
                  ],
                  "y": {
                    "bdata": "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",
                    "dtype": "f4"
                  }
                },
                {
                  "line": {
                    "color": "#0047AB",
                    "width": 2.5
                  },
                  "marker": {
                    "size": 6
                  },
                  "mode": "lines+markers",
                  "name": "Real (últimos 15 días)",
                  "type": "scatter",
                  "x": [
                    "2025-09-12T00:00:00.000000000",
                    "2025-09-15T00:00:00.000000000",
                    "2025-09-17T00:00:00.000000000",
                    "2025-09-18T00:00:00.000000000",
                    "2025-09-19T00:00:00.000000000",
                    "2025-09-22T00:00:00.000000000",
                    "2025-09-23T00:00:00.000000000",
                    "2025-09-24T00:00:00.000000000",
                    "2025-09-25T00:00:00.000000000",
                    "2025-09-26T00:00:00.000000000",
                    "2025-09-29T00:00:00.000000000",
                    "2025-09-30T00:00:00.000000000",
                    "2025-10-01T00:00:00.000000000",
                    "2025-10-02T00:00:00.000000000",
                    "2025-10-03T00:00:00.000000000"
                  ],
                  "y": {
                    "bdata": "C7Wmecd5MkCTGARWDl0yQKVOQBNhUzJAI9v5fmpcMkBrmnecomMyQCo6kst/aDJANBE2PL1SMkADCYofY24yQMPTK2UZcjJAUrgehethMkALtaZ5x1kyQL1SliGOVTJAt9EA3gJZMkDrc7UV+3syQDLmriXkYzJA",
                    "dtype": "f8"
                  }
                },
                {
                  "line": {
                    "color": "#D32F2F",
                    "dash": "dot",
                    "width": 2.5
                  },
                  "marker": {
                    "size": 6
                  },
                  "mode": "lines+markers",
                  "name": "Predicho (últimos 15 días)",
                  "type": "scatter",
                  "x": [
                    "2025-09-12T00:00:00.000000000",
                    "2025-09-15T00:00:00.000000000",
                    "2025-09-17T00:00:00.000000000",
                    "2025-09-18T00:00:00.000000000",
                    "2025-09-19T00:00:00.000000000",
                    "2025-09-22T00:00:00.000000000",
                    "2025-09-23T00:00:00.000000000",
                    "2025-09-24T00:00:00.000000000",
                    "2025-09-25T00:00:00.000000000",
                    "2025-09-26T00:00:00.000000000",
                    "2025-09-29T00:00:00.000000000",
                    "2025-09-30T00:00:00.000000000",
                    "2025-10-01T00:00:00.000000000",
                    "2025-10-02T00:00:00.000000000",
                    "2025-10-03T00:00:00.000000000"
                  ],
                  "y": {
                    "bdata": "FiqUQSWzk0Eo/5JBKHKSQbRJkkE1XJJB7YmSQaJdkkEUspJB/fiSQXDokkFgu5JBY4qSQYR2kkHW8JJB",
                    "dtype": "f4"
                  }
                }
              ],
              "layout": {
                "legend": {
                  "bordercolor": "black",
                  "borderwidth": 1,
                  "x": 0.01,
                  "y": 0.99
                },
                "template": {
                  "data": {
                    "bar": [
                      {
                        "error_x": {
                          "color": "#2a3f5f"
                        },
                        "error_y": {
                          "color": "#2a3f5f"
                        },
                        "marker": {
                          "line": {
                            "color": "white",
                            "width": 0.5
                          },
                          "pattern": {
                            "fillmode": "overlay",
                            "size": 10,
                            "solidity": 0.2
                          }
                        },
                        "type": "bar"
                      }
                    ],
                    "barpolar": [
                      {
                        "marker": {
                          "line": {
                            "color": "white",
                            "width": 0.5
                          },
                          "pattern": {
                            "fillmode": "overlay",
                            "size": 10,
                            "solidity": 0.2
                          }
                        },
                        "type": "barpolar"
                      }
                    ],
                    "carpet": [
                      {
                        "aaxis": {
                          "endlinecolor": "#2a3f5f",
                          "gridcolor": "#C8D4E3",
                          "linecolor": "#C8D4E3",
                          "minorgridcolor": "#C8D4E3",
                          "startlinecolor": "#2a3f5f"
                        },
                        "baxis": {
                          "endlinecolor": "#2a3f5f",
                          "gridcolor": "#C8D4E3",
                          "linecolor": "#C8D4E3",
                          "minorgridcolor": "#C8D4E3",
                          "startlinecolor": "#2a3f5f"
                        },
                        "type": "carpet"
                      }
                    ],
                    "choropleth": [
                      {
                        "colorbar": {
                          "outlinewidth": 0,
                          "ticks": ""
                        },
                        "type": "choropleth"
                      }
                    ],
                    "contour": [
                      {
                        "colorbar": {
                          "outlinewidth": 0,
                          "ticks": ""
                        },
                        "colorscale": [
                          [
                            0,
                            "#0d0887"
                          ],
                          [
                            0.1111111111111111,
                            "#46039f"
                          ],
                          [
                            0.2222222222222222,
                            "#7201a8"
                          ],
                          [
                            0.3333333333333333,
                            "#9c179e"
                          ],
                          [
                            0.4444444444444444,
                            "#bd3786"
                          ],
                          [
                            0.5555555555555556,
                            "#d8576b"
                          ],
                          [
                            0.6666666666666666,
                            "#ed7953"
                          ],
                          [
                            0.7777777777777778,
                            "#fb9f3a"
                          ],
                          [
                            0.8888888888888888,
                            "#fdca26"
                          ],
                          [
                            1,
                            "#f0f921"
                          ]
                        ],
                        "type": "contour"
                      }
                    ],
                    "contourcarpet": [
                      {
                        "colorbar": {
                          "outlinewidth": 0,
                          "ticks": ""
                        },
                        "type": "contourcarpet"
                      }
                    ],
                    "heatmap": [
                      {
                        "colorbar": {
                          "outlinewidth": 0,
                          "ticks": ""
                        },
                        "colorscale": [
                          [
                            0,
                            "#0d0887"
                          ],
                          [
                            0.1111111111111111,
                            "#46039f"
                          ],
                          [
                            0.2222222222222222,
                            "#7201a8"
                          ],
                          [
                            0.3333333333333333,
                            "#9c179e"
                          ],
                          [
                            0.4444444444444444,
                            "#bd3786"
                          ],
                          [
                            0.5555555555555556,
                            "#d8576b"
                          ],
                          [
                            0.6666666666666666,
                            "#ed7953"
                          ],
                          [
                            0.7777777777777778,
                            "#fb9f3a"
                          ],
                          [
                            0.8888888888888888,
                            "#fdca26"
                          ],
                          [
                            1,
                            "#f0f921"
                          ]
                        ],
                        "type": "heatmap"
                      }
                    ],
                    "histogram": [
                      {
                        "marker": {
                          "pattern": {
                            "fillmode": "overlay",
                            "size": 10,
                            "solidity": 0.2
                          }
                        },
                        "type": "histogram"
                      }
                    ],
                    "histogram2d": [
                      {
                        "colorbar": {
                          "outlinewidth": 0,
                          "ticks": ""
                        },
                        "colorscale": [
                          [
                            0,
                            "#0d0887"
                          ],
                          [
                            0.1111111111111111,
                            "#46039f"
                          ],
                          [
                            0.2222222222222222,
                            "#7201a8"
                          ],
                          [
                            0.3333333333333333,
                            "#9c179e"
                          ],
                          [
                            0.4444444444444444,
                            "#bd3786"
                          ],
                          [
                            0.5555555555555556,
                            "#d8576b"
                          ],
                          [
                            0.6666666666666666,
                            "#ed7953"
                          ],
                          [
                            0.7777777777777778,
                            "#fb9f3a"
                          ],
                          [
                            0.8888888888888888,
                            "#fdca26"
                          ],
                          [
                            1,
                            "#f0f921"
                          ]
                        ],
                        "type": "histogram2d"
                      }
                    ],
                    "histogram2dcontour": [
                      {
                        "colorbar": {
                          "outlinewidth": 0,
                          "ticks": ""
                        },
                        "colorscale": [
                          [
                            0,
                            "#0d0887"
                          ],
                          [
                            0.1111111111111111,
                            "#46039f"
                          ],
                          [
                            0.2222222222222222,
                            "#7201a8"
                          ],
                          [
                            0.3333333333333333,
                            "#9c179e"
                          ],
                          [
                            0.4444444444444444,
                            "#bd3786"
                          ],
                          [
                            0.5555555555555556,
                            "#d8576b"
                          ],
                          [
                            0.6666666666666666,
                            "#ed7953"
                          ],
                          [
                            0.7777777777777778,
                            "#fb9f3a"
                          ],
                          [
                            0.8888888888888888,
                            "#fdca26"
                          ],
                          [
                            1,
                            "#f0f921"
                          ]
                        ],
                        "type": "histogram2dcontour"
                      }
                    ],
                    "mesh3d": [
                      {
                        "colorbar": {
                          "outlinewidth": 0,
                          "ticks": ""
                        },
                        "type": "mesh3d"
                      }
                    ],
                    "parcoords": [
                      {
                        "line": {
                          "colorbar": {
                            "outlinewidth": 0,
                            "ticks": ""
                          }
                        },
                        "type": "parcoords"
                      }
                    ],
                    "pie": [
                      {
                        "automargin": true,
                        "type": "pie"
                      }
                    ],
                    "scatter": [
                      {
                        "fillpattern": {
                          "fillmode": "overlay",
                          "size": 10,
                          "solidity": 0.2
                        },
                        "type": "scatter"
                      }
                    ],
                    "scatter3d": [
                      {
                        "line": {
                          "colorbar": {
                            "outlinewidth": 0,
                            "ticks": ""
                          }
                        },
                        "marker": {
                          "colorbar": {
                            "outlinewidth": 0,
                            "ticks": ""
                          }
                        },
                        "type": "scatter3d"
                      }
                    ],
                    "scattercarpet": [
                      {
                        "marker": {
                          "colorbar": {
                            "outlinewidth": 0,
                            "ticks": ""
                          }
                        },
                        "type": "scattercarpet"
                      }
                    ],
                    "scattergeo": [
                      {
                        "marker": {
                          "colorbar": {
                            "outlinewidth": 0,
                            "ticks": ""
                          }
                        },
                        "type": "scattergeo"
                      }
                    ],
                    "scattergl": [
                      {
                        "marker": {
                          "colorbar": {
                            "outlinewidth": 0,
                            "ticks": ""
                          }
                        },
                        "type": "scattergl"
                      }
                    ],
                    "scattermap": [
                      {
                        "marker": {
                          "colorbar": {
                            "outlinewidth": 0,
                            "ticks": ""
                          }
                        },
                        "type": "scattermap"
                      }
                    ],
                    "scattermapbox": [
                      {
                        "marker": {
                          "colorbar": {
                            "outlinewidth": 0,
                            "ticks": ""
                          }
                        },
                        "type": "scattermapbox"
                      }
                    ],
                    "scatterpolar": [
                      {
                        "marker": {
                          "colorbar": {
                            "outlinewidth": 0,
                            "ticks": ""
                          }
                        },
                        "type": "scatterpolar"
                      }
                    ],
                    "scatterpolargl": [
                      {
                        "marker": {
                          "colorbar": {
                            "outlinewidth": 0,
                            "ticks": ""
                          }
                        },
                        "type": "scatterpolargl"
                      }
                    ],
                    "scatterternary": [
                      {
                        "marker": {
                          "colorbar": {
                            "outlinewidth": 0,
                            "ticks": ""
                          }
                        },
                        "type": "scatterternary"
                      }
                    ],
                    "surface": [
                      {
                        "colorbar": {
                          "outlinewidth": 0,
                          "ticks": ""
                        },
                        "colorscale": [
                          [
                            0,
                            "#0d0887"
                          ],
                          [
                            0.1111111111111111,
                            "#46039f"
                          ],
                          [
                            0.2222222222222222,
                            "#7201a8"
                          ],
                          [
                            0.3333333333333333,
                            "#9c179e"
                          ],
                          [
                            0.4444444444444444,
                            "#bd3786"
                          ],
                          [
                            0.5555555555555556,
                            "#d8576b"
                          ],
                          [
                            0.6666666666666666,
                            "#ed7953"
                          ],
                          [
                            0.7777777777777778,
                            "#fb9f3a"
                          ],
                          [
                            0.8888888888888888,
                            "#fdca26"
                          ],
                          [
                            1,
                            "#f0f921"
                          ]
                        ],
                        "type": "surface"
                      }
                    ],
                    "table": [
                      {
                        "cells": {
                          "fill": {
                            "color": "#EBF0F8"
                          },
                          "line": {
                            "color": "white"
                          }
                        },
                        "header": {
                          "fill": {
                            "color": "#C8D4E3"
                          },
                          "line": {
                            "color": "white"
                          }
                        },
                        "type": "table"
                      }
                    ]
                  },
                  "layout": {
                    "annotationdefaults": {
                      "arrowcolor": "#2a3f5f",
                      "arrowhead": 0,
                      "arrowwidth": 1
                    },
                    "autotypenumbers": "strict",
                    "coloraxis": {
                      "colorbar": {
                        "outlinewidth": 0,
                        "ticks": ""
                      }
                    },
                    "colorscale": {
                      "diverging": [
                        [
                          0,
                          "#8e0152"
                        ],
                        [
                          0.1,
                          "#c51b7d"
                        ],
                        [
                          0.2,
                          "#de77ae"
                        ],
                        [
                          0.3,
                          "#f1b6da"
                        ],
                        [
                          0.4,
                          "#fde0ef"
                        ],
                        [
                          0.5,
                          "#f7f7f7"
                        ],
                        [
                          0.6,
                          "#e6f5d0"
                        ],
                        [
                          0.7,
                          "#b8e186"
                        ],
                        [
                          0.8,
                          "#7fbc41"
                        ],
                        [
                          0.9,
                          "#4d9221"
                        ],
                        [
                          1,
                          "#276419"
                        ]
                      ],
                      "sequential": [
                        [
                          0,
                          "#0d0887"
                        ],
                        [
                          0.1111111111111111,
                          "#46039f"
                        ],
                        [
                          0.2222222222222222,
                          "#7201a8"
                        ],
                        [
                          0.3333333333333333,
                          "#9c179e"
                        ],
                        [
                          0.4444444444444444,
                          "#bd3786"
                        ],
                        [
                          0.5555555555555556,
                          "#d8576b"
                        ],
                        [
                          0.6666666666666666,
                          "#ed7953"
                        ],
                        [
                          0.7777777777777778,
                          "#fb9f3a"
                        ],
                        [
                          0.8888888888888888,
                          "#fdca26"
                        ],
                        [
                          1,
                          "#f0f921"
                        ]
                      ],
                      "sequentialminus": [
                        [
                          0,
                          "#0d0887"
                        ],
                        [
                          0.1111111111111111,
                          "#46039f"
                        ],
                        [
                          0.2222222222222222,
                          "#7201a8"
                        ],
                        [
                          0.3333333333333333,
                          "#9c179e"
                        ],
                        [
                          0.4444444444444444,
                          "#bd3786"
                        ],
                        [
                          0.5555555555555556,
                          "#d8576b"
                        ],
                        [
                          0.6666666666666666,
                          "#ed7953"
                        ],
                        [
                          0.7777777777777778,
                          "#fb9f3a"
                        ],
                        [
                          0.8888888888888888,
                          "#fdca26"
                        ],
                        [
                          1,
                          "#f0f921"
                        ]
                      ]
                    },
                    "colorway": [
                      "#636efa",
                      "#EF553B",
                      "#00cc96",
                      "#ab63fa",
                      "#FFA15A",
                      "#19d3f3",
                      "#FF6692",
                      "#B6E880",
                      "#FF97FF",
                      "#FECB52"
                    ],
                    "font": {
                      "color": "#2a3f5f"
                    },
                    "geo": {
                      "bgcolor": "white",
                      "lakecolor": "white",
                      "landcolor": "white",
                      "showlakes": true,
                      "showland": true,
                      "subunitcolor": "#C8D4E3"
                    },
                    "hoverlabel": {
                      "align": "left"
                    },
                    "hovermode": "closest",
                    "mapbox": {
                      "style": "light"
                    },
                    "paper_bgcolor": "white",
                    "plot_bgcolor": "white",
                    "polar": {
                      "angularaxis": {
                        "gridcolor": "#EBF0F8",
                        "linecolor": "#EBF0F8",
                        "ticks": ""
                      },
                      "bgcolor": "white",
                      "radialaxis": {
                        "gridcolor": "#EBF0F8",
                        "linecolor": "#EBF0F8",
                        "ticks": ""
                      }
                    },
                    "scene": {
                      "xaxis": {
                        "backgroundcolor": "white",
                        "gridcolor": "#DFE8F3",
                        "gridwidth": 2,
                        "linecolor": "#EBF0F8",
                        "showbackground": true,
                        "ticks": "",
                        "zerolinecolor": "#EBF0F8"
                      },
                      "yaxis": {
                        "backgroundcolor": "white",
                        "gridcolor": "#DFE8F3",
                        "gridwidth": 2,
                        "linecolor": "#EBF0F8",
                        "showbackground": true,
                        "ticks": "",
                        "zerolinecolor": "#EBF0F8"
                      },
                      "zaxis": {
                        "backgroundcolor": "white",
                        "gridcolor": "#DFE8F3",
                        "gridwidth": 2,
                        "linecolor": "#EBF0F8",
                        "showbackground": true,
                        "ticks": "",
                        "zerolinecolor": "#EBF0F8"
                      }
                    },
                    "shapedefaults": {
                      "line": {
                        "color": "#2a3f5f"
                      }
                    },
                    "ternary": {
                      "aaxis": {
                        "gridcolor": "#DFE8F3",
                        "linecolor": "#A2B1C6",
                        "ticks": ""
                      },
                      "baxis": {
                        "gridcolor": "#DFE8F3",
                        "linecolor": "#A2B1C6",
                        "ticks": ""
                      },
                      "bgcolor": "white",
                      "caxis": {
                        "gridcolor": "#DFE8F3",
                        "linecolor": "#A2B1C6",
                        "ticks": ""
                      }
                    },
                    "title": {
                      "x": 0.05
                    },
                    "xaxis": {
                      "automargin": true,
                      "gridcolor": "#EBF0F8",
                      "linecolor": "#EBF0F8",
                      "ticks": "",
                      "title": {
                        "standoff": 15
                      },
                      "zerolinecolor": "#EBF0F8",
                      "zerolinewidth": 2
                    },
                    "yaxis": {
                      "automargin": true,
                      "gridcolor": "#EBF0F8",
                      "linecolor": "#EBF0F8",
                      "ticks": "",
                      "title": {
                        "standoff": 15
                      },
                      "zerolinecolor": "#EBF0F8",
                      "zerolinewidth": 2
                    }
                  }
                },
                "title": {
                  "text": "Predicción de la TIIE con Modelo LSTM"
                },
                "xaxis": {
                  "title": {
                    "text": "Fecha"
                  }
                },
                "yaxis": {
                  "title": {
                    "text": "TIIE 28 días (%)"
                  }
                }
              }
            }
          },
          "metadata": {},
          "output_type": "display_data"
        }
      ],
      "source": [
        "import plotly.graph_objects as go\n",
        "# (Esto es lo que ya tenías, solo renombramos 'resultados' a 'df_pred')\n",
        "\n",
        "y_pred_scaled = model.predict(X_test)\n",
        "y_pred = scaler.inverse_transform(y_pred_scaled)\n",
        "y_test_real = scaler.inverse_transform(y_test.reshape(-1, 1))\n",
        "\n",
        "# DataFrame con los resultados del test\n",
        "df_pred = pd.DataFrame({\n",
        "    'Real': y_test_real.flatten(), \n",
        "    'Predicho': y_pred.flatten()\n",
        "}, index=fechas_test)\n",
        "\n",
        "# (Esta parte es para la línea naranja de fondo en tu gráfica)\n",
        "\n",
        "# ¡Importante! Debemos hacer reshape a 'X' también para que sea compatible con LSTM\n",
        "X_reshaped = X.reshape((X.shape[0], X.shape[1], 1))\n",
        "y_pred_all = model.predict(X_reshaped)\n",
        "\n",
        "# Invertir la escala de las predicciones y los valores reales\n",
        "y_pred_all_rescaled = scaler.inverse_transform(y_pred_all)\n",
        "y_all_rescaled = scaler.inverse_transform(y.reshape(-1, 1))\n",
        "\n",
        "# Las fechas deben corresponder al DataFrame de 2 años (df_2y)\n",
        "fechas_all = df_2y.index[window_size:]\n",
        "\n",
        "# Crear el DataFrame con todas las predicciones\n",
        "df_pred_all = pd.DataFrame({\n",
        "    \"Real\": y_all_rescaled.flatten(),\n",
        "    \"Predicho\": y_pred_all_rescaled.flatten()\n",
        "}, index=fechas_all)\n",
        "\n",
        "\n",
        "# No es necesario filtrar de nuevo, ya que los DataFrames se basan en df_2y\n",
        "fig = go.Figure()\n",
        "\n",
        "# Serie de 2 años real (la base gris)\n",
        "fig.add_trace(go.Scatter(x=df_2y.index, y=df_2y[\"dato\"],\n",
        "                         mode=\"lines\",\n",
        "                         name=\"Serie Real (últimos 2 años)\",\n",
        "                         line=dict(color=\"lightgray\")))\n",
        "\n",
        "# Predicciones de todo el modelo (la línea naranja)\n",
        "fig.add_trace(go.Scatter(x=df_pred_all.index, y=df_pred_all[\"Predicho\"],\n",
        "                         mode=\"lines\",\n",
        "                         name=\"Predicho (train + test)\",\n",
        "                         line=dict(color=\"orange\")))\n",
        "\n",
        "# Últimos 15 días - reales (línea azul con puntos)\n",
        "fig.add_trace(go.Scatter(x=df_pred.index, y=df_pred[\"Real\"],\n",
        "                         mode=\"lines+markers\",\n",
        "                         name=\"Real (últimos 15 días)\",\n",
        "                         line=dict(color=\"#0047AB\", width=2.5), # Azul cobalto\n",
        "                         marker=dict(size=6)))\n",
        "\n",
        "# Últimos 15 días - predichos (línea roja punteada)\n",
        "fig.add_trace(go.Scatter(x=df_pred.index, y=df_pred[\"Predicho\"],\n",
        "                         mode=\"lines+markers\",\n",
        "                         name=\"Predicho (últimos 15 días)\",\n",
        "                         line=dict(color=\"#D32F2F\", dash=\"dot\", width=2.5), # Rojo fuerte\n",
        "                         marker=dict(size=6)))\n",
        "\n",
        "fig.update_layout(\n",
        "    title=\"Predicción de la TIIE con Modelo LSTM\",\n",
        "    xaxis_title=\"Fecha\",\n",
        "    yaxis_title=\"TIIE 28 días (%)\",\n",
        "    legend=dict(x=0.01, y=0.99, bordercolor=\"black\", borderwidth=1),\n",
        "    template=\"plotly_white\" # Un template limpio\n",
        ")\n",
        "\n",
        "fig.show()"
      ]
    },
    {
      "cell_type": "code",
      "execution_count": null,
      "metadata": {},
      "outputs": [],
      "source": []
    }
  ],
  "metadata": {
    "colab": {
      "provenance": []
    },
    "kernelspec": {
      "display_name": "base",
      "language": "python",
      "name": "python3"
    },
    "language_info": {
      "codemirror_mode": {
        "name": "ipython",
        "version": 3
      },
      "file_extension": ".py",
      "mimetype": "text/x-python",
      "name": "python",
      "nbconvert_exporter": "python",
      "pygments_lexer": "ipython3",
      "version": "3.13.5"
    }
  },
  "nbformat": 4,
  "nbformat_minor": 0
}
